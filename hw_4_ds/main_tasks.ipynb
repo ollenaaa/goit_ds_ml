{
 "cells": [
  {
   "cell_type": "code",
   "execution_count": 2,
   "id": "48fe1823-8393-42e6-9358-67f10a951ca5",
   "metadata": {},
   "outputs": [
    {
     "name": "stdout",
     "output_type": "stream",
     "text": [
      "Collecting numpy\n",
      "  Downloading numpy-2.1.1-cp312-cp312-macosx_10_9_x86_64.whl.metadata (60 kB)\n",
      "\u001b[2K     \u001b[90m━━━━━━━━━━━━━━━━━━━━━━━━━━━━━━━━━━━━━━━\u001b[0m \u001b[32m60.9/60.9 kB\u001b[0m \u001b[31m796.2 kB/s\u001b[0m eta \u001b[36m0:00:00\u001b[0m \u001b[36m0:00:01\u001b[0m\n",
      "\u001b[?25hDownloading numpy-2.1.1-cp312-cp312-macosx_10_9_x86_64.whl (20.9 MB)\n",
      "\u001b[2K   \u001b[90m━━━━━━━━━━━━━━━━━━━━━━━━━━━━━━━━━━━━━━━━\u001b[0m \u001b[32m20.9/20.9 MB\u001b[0m \u001b[31m9.0 MB/s\u001b[0m eta \u001b[36m0:00:00\u001b[0m00:01\u001b[0m00:01\u001b[0mm\n",
      "\u001b[?25hInstalling collected packages: numpy\n",
      "Successfully installed numpy-2.1.1\n",
      "\n",
      "\u001b[1m[\u001b[0m\u001b[34;49mnotice\u001b[0m\u001b[1;39;49m]\u001b[0m\u001b[39;49m A new release of pip is available: \u001b[0m\u001b[31;49m24.0\u001b[0m\u001b[39;49m -> \u001b[0m\u001b[32;49m24.2\u001b[0m\n",
      "\u001b[1m[\u001b[0m\u001b[34;49mnotice\u001b[0m\u001b[1;39;49m]\u001b[0m\u001b[39;49m To update, run: \u001b[0m\u001b[32;49mpip install --upgrade pip\u001b[0m\n",
      "Note: you may need to restart the kernel to use updated packages.\n"
     ]
    }
   ],
   "source": [
    "pip install numpy"
   ]
  },
  {
   "cell_type": "code",
   "execution_count": 3,
   "id": "2ae855c3-bd6e-44d8-86d5-d7234fbb64d8",
   "metadata": {},
   "outputs": [],
   "source": [
    "import numpy as np"
   ]
  },
  {
   "cell_type": "code",
   "execution_count": 69,
   "id": "9555704f-4162-4895-9737-b287d9526116",
   "metadata": {},
   "outputs": [
    {
     "name": "stdout",
     "output_type": "stream",
     "text": [
      "Vector with the first 10 natural numbers: [ 1  2  3  4  5  6  7  8  9 10]\n"
     ]
    }
   ],
   "source": [
    "array = np.arange(1, 11)\n",
    "print(f\"Vector with the first 10 natural numbers: {array}\")"
   ]
  },
  {
   "cell_type": "code",
   "execution_count": 71,
   "id": "9f3ff7ce-790d-4f9e-9a59-af5bd330e138",
   "metadata": {},
   "outputs": [
    {
     "name": "stdout",
     "output_type": "stream",
     "text": [
      "Zero matrix:\n",
      "[[0. 0. 0.]\n",
      " [0. 0. 0.]\n",
      " [0. 0. 0.]]\n"
     ]
    }
   ],
   "source": [
    "array = np.zeros((3,3))\n",
    "print(f\"Zero matrix:\\n{array}\")"
   ]
  },
  {
   "cell_type": "code",
   "execution_count": 72,
   "id": "2d9e5fb5-2f6a-40c1-9087-bbfb283f7605",
   "metadata": {},
   "outputs": [
    {
     "name": "stdout",
     "output_type": "stream",
     "text": [
      "An array of 5x5 random numbers from 1 to 10:\n",
      "[[1 4 3 3 7]\n",
      " [3 6 5 4 1]\n",
      " [1 4 4 2 2]\n",
      " [6 7 6 1 1]\n",
      " [8 1 3 4 1]]\n"
     ]
    }
   ],
   "source": [
    "array = np.random.randint(1, 10, size=(5, 5))\n",
    "print(f\"An array of 5x5 random numbers from 1 to 10:\\n{array}\")"
   ]
  },
  {
   "cell_type": "code",
   "execution_count": 73,
   "id": "8e15a23f-f8a1-495c-bcf3-38027d491ea6",
   "metadata": {},
   "outputs": [
    {
     "name": "stdout",
     "output_type": "stream",
     "text": [
      "An array of 4x4 random numbers from 0 to 1:\n",
      "[[0.33381061 0.4046925  0.3852188  0.93440284]\n",
      " [0.43612781 0.02884392 0.76370645 0.4451369 ]\n",
      " [0.46337283 0.89940716 0.9508394  0.67476975]\n",
      " [0.09002636 0.95941788 0.71301681 0.39288574]]\n"
     ]
    }
   ],
   "source": [
    "array = np.random.random((4, 4))\n",
    "print(f\"An array of 4x4 random numbers from 0 to 1:\\n{array}\")"
   ]
  },
  {
   "cell_type": "code",
   "execution_count": 21,
   "id": "04e072e1-68a9-47e7-9499-7958008654b8",
   "metadata": {},
   "outputs": [
    {
     "name": "stdout",
     "output_type": "stream",
     "text": [
      "First array: [1 3 5 4 7]\n",
      "Second array: [5 9 1 7 7]\n",
      "Addition: [ 6 12  6 11 14]\n",
      "Subtraction: [-4 -6  4 -3  0]\n",
      "Multiplication: [ 5 27  5 28 49]\n"
     ]
    }
   ],
   "source": [
    "array_1 = np.random.randint(1, 10, size=5)\n",
    "array_2 = np.random.randint(1, 10, size=5)\n",
    "\n",
    "add_array = array_1 + array_2\n",
    "sub_array = array_1 - array_2\n",
    "mul_array = array_1 * array_2\n",
    "\n",
    "print(f\"First array: {array_1}\\nSecond array: {array_2}\\n\\\n",
    "Addition: {add_array}\\nSubtraction: {sub_array}\\n\\\n",
    "Multiplication: {mul_array}\")"
   ]
  },
  {
   "cell_type": "code",
   "execution_count": 48,
   "id": "fab89e05-b7b5-4150-8db0-48da35db6957",
   "metadata": {},
   "outputs": [
    {
     "name": "stdout",
     "output_type": "stream",
     "text": [
      "First vector: [3 7 9 6 7 1 6]\n",
      "Second vector: [7 1 0 3 3 8 6]\n",
      "Dot product: 111\n"
     ]
    }
   ],
   "source": [
    "vector_1 = np.random.randint(0, 10, size=7)\n",
    "vector_2 = np.random.randint(0, 10, size=7)\n",
    "\n",
    "dot_product = np.dot(vector_1, vector_2)\n",
    "\n",
    "print(f\"First vector: {vector_1}\\nSecond vector: {vector_2}\\nDot product: {dot_product}\")"
   ]
  },
  {
   "cell_type": "code",
   "execution_count": 74,
   "id": "cbd37674-ec5f-4cbc-b4c1-766ddf3ce753",
   "metadata": {},
   "outputs": [
    {
     "name": "stdout",
     "output_type": "stream",
     "text": [
      "First array:\n",
      "[[8 2]\n",
      " [6 8]]\n",
      "Second array:\n",
      "[[4 9 9]\n",
      " [3 5 4]]\n",
      "Multiplication:\n",
      "[[38 82 80]\n",
      " [48 94 86]]\n"
     ]
    }
   ],
   "source": [
    "array_1 = np.random.randint(1, 10, size=(2, 2))\n",
    "array_2 = np.random.randint(1, 10, size=(2, 3))\n",
    "\n",
    "mult_array = np.dot(array_1, array_2)\n",
    "\n",
    "print(f\"First array:\\n{array_1}\\nSecond array:\\n{array_2}\\nMultiplication:\\n{mult_array}\")"
   ]
  },
  {
   "cell_type": "code",
   "execution_count": 75,
   "id": "0c441861-4dca-43bd-8d2c-14bbf9bef34e",
   "metadata": {},
   "outputs": [
    {
     "name": "stdout",
     "output_type": "stream",
     "text": [
      "Array:\n",
      "[[7 6 6]\n",
      " [7 9 8]\n",
      " [1 3 7]]\n",
      "Inverse matrix:\n",
      "[[ 0.39393939 -0.24242424 -0.06060606]\n",
      " [-0.41414141  0.43434343 -0.14141414]\n",
      " [ 0.12121212 -0.15151515  0.21212121]]\n"
     ]
    }
   ],
   "source": [
    "array = np.random.randint(1, 10, size=(3, 3))\n",
    "\n",
    "array_inv = np.linalg.inv(array)\n",
    "\n",
    "print(f\"Array:\\n{array}\\nInverse matrix:\\n{array_inv}\")"
   ]
  },
  {
   "cell_type": "code",
   "execution_count": 76,
   "id": "12fe876c-b0cb-4564-a041-9ec1f840ef80",
   "metadata": {},
   "outputs": [
    {
     "name": "stdout",
     "output_type": "stream",
     "text": [
      "Array:\n",
      "[[0.35697169 0.0327418  0.24539274 0.56541826]\n",
      " [0.48702224 0.47764789 0.20789356 0.63005775]\n",
      " [0.93194599 0.53852198 0.8522784  0.39976339]\n",
      " [0.89072811 0.63747115 0.19970555 0.59951808]]\n",
      "Transpose array:\n",
      "[[0.35697169 0.48702224 0.93194599 0.89072811]\n",
      " [0.0327418  0.47764789 0.53852198 0.63747115]\n",
      " [0.24539274 0.20789356 0.8522784  0.19970555]\n",
      " [0.56541826 0.63005775 0.39976339 0.59951808]]\n"
     ]
    }
   ],
   "source": [
    "array = np.random.random((4, 4))\n",
    "\n",
    "print(f\"Array:\\n{array}\\nTranspose array:\\n{array.T}\")"
   ]
  },
  {
   "cell_type": "code",
   "execution_count": 77,
   "id": "85193a85-cd76-4a23-a075-b1f93587fbe8",
   "metadata": {},
   "outputs": [
    {
     "name": "stdout",
     "output_type": "stream",
     "text": [
      "Array:\n",
      "[[1 3 6 1]\n",
      " [1 9 2 5]\n",
      " [4 9 5 2]]\n",
      "Vector:\n",
      "[6 9 9 4]\n",
      "Multiplication:\n",
      "[ 91 125 158]\n"
     ]
    }
   ],
   "source": [
    "array = np.random.randint(1, 10, size=(3, 4))\n",
    "vector = np.random.randint(1, 10, size=4)\n",
    "\n",
    "mult_array = np.dot(array, vector)\n",
    "\n",
    "print(f\"Array:\\n{array}\\nVector:\\n{vector}\\nMultiplication:\\n{mult_array}\")"
   ]
  },
  {
   "cell_type": "code",
   "execution_count": 78,
   "id": "4207acfd-4a7e-47c9-9b24-3305a7988dcb",
   "metadata": {},
   "outputs": [
    {
     "name": "stdout",
     "output_type": "stream",
     "text": [
      "Array:\n",
      "[[0.04866137 0.46635587 0.94837383]\n",
      " [0.57198909 0.98689937 0.5289822 ]]\n",
      "Vector:\n",
      "[0.97900894 0.68807498 0.54275771]\n",
      "Multiplication:\n",
      "[0.88326493 1.52615237]\n"
     ]
    }
   ],
   "source": [
    "array = np.random.random((2, 3))\n",
    "vector = np.random.random(3)\n",
    "\n",
    "mult_array = np.dot(array, vector)\n",
    "\n",
    "print(f\"Array:\\n{array}\\nVector:\\n{vector}\\nMultiplication:\\n{mult_array}\")"
   ]
  },
  {
   "cell_type": "code",
   "execution_count": 79,
   "id": "e5ea432a-2d0c-4142-be1e-16de7491119c",
   "metadata": {},
   "outputs": [
    {
     "name": "stdout",
     "output_type": "stream",
     "text": [
      "First array:\n",
      "[[8 7]\n",
      " [2 9]]\n",
      "Second array:\n",
      "[[9 1]\n",
      " [1 1]]\n",
      "Multiplication by elements:\n",
      "[[72  7]\n",
      " [ 2  9]]\n"
     ]
    }
   ],
   "source": [
    "array_1 = np.random.randint(1, 10, size=(2, 2))\n",
    "array_2 = np.random.randint(1, 10, size=(2, 2))\n",
    "\n",
    "print(f\"First array:\\n{array_1}\\nSecond array:\\n{array_2}\\nMultiplication by elements:\\n{array_1 * array_2}\")"
   ]
  },
  {
   "cell_type": "code",
   "execution_count": 80,
   "id": "1a5c42f3-4219-4729-ac1d-3c7e1f18dff6",
   "metadata": {},
   "outputs": [
    {
     "name": "stdout",
     "output_type": "stream",
     "text": [
      "First array:\n",
      "[[8 3]\n",
      " [4 2]]\n",
      "Second array:\n",
      "[[8 5]\n",
      " [7 8]]\n",
      "Multiplication:\n",
      "[[85 64]\n",
      " [46 36]]\n"
     ]
    }
   ],
   "source": [
    "array_1 = np.random.randint(1, 10, size=(2, 2))\n",
    "array_2 = np.random.randint(1, 10, size=(2, 2))\n",
    "\n",
    "mult_array = np.dot(array_1, array_2)\n",
    "\n",
    "print(f\"First array:\\n{array_1}\\nSecond array:\\n{array_2}\\nMultiplication:\\n{mult_array}\")"
   ]
  },
  {
   "cell_type": "code",
   "execution_count": 81,
   "id": "d50ea579-5c39-44d3-99e6-8f8f6885a313",
   "metadata": {},
   "outputs": [
    {
     "name": "stdout",
     "output_type": "stream",
     "text": [
      "Array:\n",
      "[[ 2  4 55 72 47]\n",
      " [13 40 41 74 40]\n",
      " [94 81 61 40 40]\n",
      " [45 96 28  3 83]\n",
      " [86 91 72  4 63]]\n",
      "Sum:\n",
      "1275\n"
     ]
    }
   ],
   "source": [
    "array = np.random.randint(1, 100, size=(5, 5))\n",
    "\n",
    "print(f\"Array:\\n{array}\\nSum:\\n{array.sum()}\")"
   ]
  },
  {
   "cell_type": "code",
   "execution_count": 82,
   "id": "6f908331-40d7-4d80-8fff-3424b12df1ee",
   "metadata": {},
   "outputs": [
    {
     "name": "stdout",
     "output_type": "stream",
     "text": [
      "First array:\n",
      "[[4 7 8 5]\n",
      " [4 2 9 3]\n",
      " [2 3 5 7]\n",
      " [6 1 7 9]]\n",
      "Second array:\n",
      "[[7 2 1 2]\n",
      " [2 4 7 5]\n",
      " [4 3 5 5]\n",
      " [8 6 4 8]]\n",
      "Difference:\n",
      "[[-3  5  7  3]\n",
      " [ 2 -2  2 -2]\n",
      " [-2  0  0  2]\n",
      " [-2 -5  3  1]]\n"
     ]
    }
   ],
   "source": [
    "array_1 = np.random.randint(1, 10, size=(4, 4))\n",
    "array_2 = np.random.randint(1, 10, size=(4, 4))\n",
    "\n",
    "difference = array_1 - array_2\n",
    "\n",
    "print(f\"First array:\\n{array_1}\\nSecond array:\\n{array_2}\\nDifference:\\n{difference}\")"
   ]
  },
  {
   "cell_type": "code",
   "execution_count": 84,
   "id": "188fb326-b4a3-4394-8b2a-1a9817936ff6",
   "metadata": {},
   "outputs": [
    {
     "name": "stdout",
     "output_type": "stream",
     "text": [
      "Array:\n",
      "[[0.81957675 0.41192258 0.52848177]\n",
      " [0.22177409 0.31520532 0.00866313]\n",
      " [0.7836497  0.1352348  0.0653512 ]]\n",
      "Сolumn where the sum of the elements of each row of the array:[1.7599811  0.54564254 0.9842357 ]\n"
     ]
    }
   ],
   "source": [
    "array = np.random.random((3,3))\n",
    "\n",
    "column_sums = np.sum(array, axis = 1)\n",
    "\n",
    "print(f\"Array:\\n{array}\\nСolumn where the sum of the elements of each row of the array:{column_sums}\") "
   ]
  },
  {
   "cell_type": "code",
   "execution_count": 85,
   "id": "e0fcefca-cdaa-4646-b0c5-b33686885bc8",
   "metadata": {},
   "outputs": [
    {
     "name": "stdout",
     "output_type": "stream",
     "text": [
      "Array:\n",
      "[[1 2 3 3]\n",
      " [4 1 3 1]\n",
      " [3 1 4 1]]\n",
      "Squared array:\n",
      "[[ 1  4  9  9]\n",
      " [16  1  9  1]\n",
      " [ 9  1 16  1]]\n"
     ]
    }
   ],
   "source": [
    "array = np.random.randint(1, 5, size=(3, 4))\n",
    "\n",
    "squared_array = np.square(array)\n",
    "\n",
    "print(f\"Array:\\n{array}\\nSquared array:\\n{squared_array}\")"
   ]
  },
  {
   "cell_type": "code",
   "execution_count": 62,
   "id": "7c85a605-77ae-4595-bdc5-8544cb4bc4fa",
   "metadata": {},
   "outputs": [
    {
     "name": "stdout",
     "output_type": "stream",
     "text": [
      "Vector: [28 41 36 28]\n",
      "Vector with square roots of numbers: [5.29150262 6.40312424 6.         5.29150262]\n"
     ]
    }
   ],
   "source": [
    "vector = np.random.randint(1, 50, size=4)\n",
    "\n",
    "sqrt_vector = np.sqrt(vector)\n",
    "\n",
    "print(f\"Vector: {vector}\\nVector with square roots of numbers: {sqrt_vector}\")"
   ]
  }
 ],
 "metadata": {
  "kernelspec": {
   "display_name": "my-python3-kernel",
   "language": "python",
   "name": "my-python3-kernel"
  },
  "language_info": {
   "codemirror_mode": {
    "name": "ipython",
    "version": 3
   },
   "file_extension": ".py",
   "mimetype": "text/x-python",
   "name": "python",
   "nbconvert_exporter": "python",
   "pygments_lexer": "ipython3",
   "version": "3.12.4"
  }
 },
 "nbformat": 4,
 "nbformat_minor": 5
}
