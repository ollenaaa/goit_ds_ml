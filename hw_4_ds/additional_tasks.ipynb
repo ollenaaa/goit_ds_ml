{
 "cells": [
  {
   "cell_type": "code",
   "execution_count": 3,
   "id": "7cd17294-7933-4ca0-af4e-cb7c8e6095f4",
   "metadata": {},
   "outputs": [],
   "source": [
    "import numpy as np"
   ]
  },
  {
   "cell_type": "code",
   "execution_count": 70,
   "id": "30aa77b3-21fd-455a-8455-22463affe089",
   "metadata": {},
   "outputs": [
    {
     "name": "stdout",
     "output_type": "stream",
     "text": [
      "Array: [ 0 -1  2 -1  4 -1  6 -1  8 -1]\n"
     ]
    }
   ],
   "source": [
    "arr = np.array([0, 1, 2, 3, 4, 5, 6, 7, 8, 9])\n",
    "arr[arr % 2 != 0] = -1\n",
    "print(f\"Array: {arr}\")"
   ]
  },
  {
   "cell_type": "code",
   "execution_count": 69,
   "id": "137bf0b6-163b-402c-a64b-57aa800896fc",
   "metadata": {},
   "outputs": [
    {
     "name": "stdout",
     "output_type": "stream",
     "text": [
      "One demension array:\n",
      "[2 1 5 4]\n",
      "Two demension array:\n",
      "[[2 1]\n",
      " [5 4]]\n"
     ]
    }
   ],
   "source": [
    "while True:\n",
    "    n = np.random.randint(1, 10)\n",
    "    if n % 2 == 0:\n",
    "        break\n",
    "\n",
    "one_demension = np.random.randint(1, 9, size=n)\n",
    "two_demension = one_demension.reshape(2, -1)\n",
    "\n",
    "print(f\"One demension array:\\n{one_demension}\\nTwo demension array:\\n{two_demension}\")"
   ]
  },
  {
   "cell_type": "code",
   "execution_count": 68,
   "id": "c0f5b922-ca9e-4d27-bff6-cf9497176dd2",
   "metadata": {},
   "outputs": [
    {
     "name": "stdout",
     "output_type": "stream",
     "text": [
      "Initial array a:\n",
      "[[4 7]\n",
      " [4 5]]\n",
      "Initial array b:\n",
      "[[8 3]\n",
      " [8 7]]\n",
      "The result of vertical folding:\n",
      "[[4 7]\n",
      " [4 5]\n",
      " [8 3]\n",
      " [8 7]]\n"
     ]
    }
   ],
   "source": [
    "a = np.random.randint(1, 9, size=(2, 2))\n",
    "b = np.random.randint(1, 9, size=(2, 2))\n",
    "\n",
    "vertical_folding = np.vstack((a, b))\n",
    "print(f\"Initial array a:\\n{a}\\nInitial array b:\\n{b}\\nThe result of vertical folding:\\n{vertical_folding}\")"
   ]
  },
  {
   "cell_type": "code",
   "execution_count": 94,
   "id": "169bf6c5-f7d4-47de-aa6e-80779c4ec86c",
   "metadata": {},
   "outputs": [
    {
     "name": "stdout",
     "output_type": "stream",
     "text": [
      "Input: [1 2 3]\n",
      "Output: [1 1 1 2 2 2 3 3 3 1 2 3 1 2 3 1 2 3]\n"
     ]
    }
   ],
   "source": [
    "a = np.array([1,2,3])\n",
    "\n",
    "repeat_a = np.repeat(a, 3)\n",
    "tile_a = np.tile(a, 3)\n",
    "result = np.concatenate((repeat_a, tile_a))\n",
    "\n",
    "print(f\"Input: {a}\\n\\\n",
    "Output: {result}\")"
   ]
  },
  {
   "cell_type": "code",
   "execution_count": 71,
   "id": "105e02ce-7c99-46ca-baac-ca3f121077d3",
   "metadata": {},
   "outputs": [
    {
     "name": "stdout",
     "output_type": "stream",
     "text": [
      "Common elements between a and b [2 4]\n"
     ]
    }
   ],
   "source": [
    "a = np.array([1,2,3,2,3,4,3,4,5,6])\n",
    "b = np.array([7,2,10,2,7,4,9,4,9,8])\n",
    "\n",
    "common_elements = np.intersect1d(a, b)\n",
    "print(f\"Common elements between a and b {common_elements}\")"
   ]
  },
  {
   "cell_type": "code",
   "execution_count": 75,
   "id": "46fd8a99-e4f1-4ee0-b94c-9f82ebecbcba",
   "metadata": {},
   "outputs": [
    {
     "name": "stdout",
     "output_type": "stream",
     "text": [
      "Array:\n",
      "[27.62684215 14.64009987 21.80136195 42.39403048  1.23122395  6.95688692\n",
      " 33.86670515 41.466785    7.69862289 29.17957314 44.67477576 11.25090398\n",
      " 10.08108276  6.31046763 11.76517714 48.95256545 40.77247431  9.42510962\n",
      " 40.99501269 14.42961361]\n",
      "Top 5 indices: [15 10  3  7 18]\n"
     ]
    }
   ],
   "source": [
    "np.random.seed(100) \n",
    "a = np.random.uniform(1,50, 20)\n",
    "\n",
    "sorted_indices = a.argsort()[::-1]\n",
    "top_5_indices = sorted_indices[:5]\n",
    "\n",
    "print(f\"Array:\\n{a}\\n\\\n",
    "Top 5 indices: {top_5_indices}\")"
   ]
  },
  {
   "cell_type": "code",
   "execution_count": 87,
   "id": "c157d905-6062-4268-9f33-42d47b1aac5a",
   "metadata": {},
   "outputs": [
    {
     "name": "stdout",
     "output_type": "stream",
     "text": [
      "Cleaned array a_array [1. 2. 3. 5. 6. 7.]\n"
     ]
    }
   ],
   "source": [
    "a_array = np.array([1,2,3,np.nan,5,6,7,np.nan])\n",
    "\n",
    "a_cleaned = a_array[~np.isnan(a_array)]\n",
    "\n",
    "print(f\"Cleaned array a_array {a_cleaned}\")"
   ]
  },
  {
   "cell_type": "code",
   "execution_count": 90,
   "id": "98709cd9-b468-46b1-8251-efe8b7429074",
   "metadata": {},
   "outputs": [
    {
     "name": "stdout",
     "output_type": "stream",
     "text": [
      "The Euclidean distance between arrays a and b: 6.708203932499369\n",
      "The Euclidean distance between arrays a and b: 6.708203932499369\n"
     ]
    }
   ],
   "source": [
    "a = np.array([1,2,3,4,5]) \n",
    "b = np.array([4,5,6,7,8])\n",
    "\n",
    "distance_1 = np.sqrt(sum((pow(b[i] - a[i], 2) for i in range(len(a)))))\n",
    "distance_2 = np.linalg.norm(a - b)\n",
    "\n",
    "print(f\"The Euclidean distance between arrays a and b: {distance_1}\\n\\\n",
    "The Euclidean distance between arrays a and b: {distance_2}\")"
   ]
  },
  {
   "cell_type": "code",
   "execution_count": 104,
   "id": "444df012-55fa-41f1-85da-77c57360a89f",
   "metadata": {},
   "outputs": [
    {
     "name": "stdout",
     "output_type": "stream",
     "text": [
      "Number: 1\n",
      "Index of the 5th repetition: 10\n"
     ]
    }
   ],
   "source": [
    "x = np.array([1, 2, 1, 1, 3, 4, 3, 1, 1, 2, 1, 1, 2])\n",
    "\n",
    "unique_values = np.unique(x)\n",
    "\n",
    "for num in unique_values:\n",
    "    indices = np.where(x == num)[0]\n",
    "    if len(indices) > 4: \n",
    "        print(f\"Number: {num}\\nIndex of the 5th repetition: {indices[5]}\")"
   ]
  },
  {
   "cell_type": "code",
   "execution_count": 118,
   "id": "09180c0a-7661-45bd-985f-6dc057c920ca",
   "metadata": {},
   "outputs": [
    {
     "name": "stdout",
     "output_type": "stream",
     "text": [
      "Input: [0 0 3 0 2 4 2 2 2 2]\n",
      "Output: [False  True False  True False False  True  True  True  True]\n"
     ]
    }
   ],
   "source": [
    "np.random.seed(100) \n",
    "a = np.random.randint(0, 5, 10)\n",
    "unique_values = np.unique(a)\n",
    "\n",
    "output = np.zeros_like(a, dtype=bool)\n",
    "\n",
    "for num in unique_values:\n",
    "    indices = np.where(a == num)[0]\n",
    "    if len(indices) > 1:\n",
    "        output[indices[1:]] = True\n",
    "print(f\"Input: {a}\\nOutput: {output}\")"
   ]
  }
 ],
 "metadata": {
  "kernelspec": {
   "display_name": "my-python3-kernel",
   "language": "python",
   "name": "my-python3-kernel"
  },
  "language_info": {
   "codemirror_mode": {
    "name": "ipython",
    "version": 3
   },
   "file_extension": ".py",
   "mimetype": "text/x-python",
   "name": "python",
   "nbconvert_exporter": "python",
   "pygments_lexer": "ipython3",
   "version": "3.12.4"
  }
 },
 "nbformat": 4,
 "nbformat_minor": 5
}
