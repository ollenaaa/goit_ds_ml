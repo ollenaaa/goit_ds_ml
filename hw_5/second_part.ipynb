{
 "cells": [
  {
   "cell_type": "markdown",
   "id": "7cbba949-e162-40bf-8e4c-9719cb35f2ef",
   "metadata": {},
   "source": [
    "# Необхідно виконати:"
   ]
  },
  {
   "cell_type": "markdown",
   "id": "062782a7-4fb3-4720-a245-e854dfa9b015",
   "metadata": {},
   "source": [
    "## Прочитайте файл 2017_jun_final.csv за допомогою методу read_csv"
   ]
  },
  {
   "cell_type": "code",
   "execution_count": 11,
   "id": "912aa59a-c1d3-4625-8401-95cdb5479feb",
   "metadata": {},
   "outputs": [],
   "source": [
    "import pandas as pd\n",
    "\n",
    "users = pd.read_csv(\"2017_jun_finall.csv\")"
   ]
  },
  {
   "cell_type": "markdown",
   "id": "30a7f299-797f-4d5d-a929-f1b82210e731",
   "metadata": {},
   "source": [
    "## Прочитайте отриману таблицю, використовуючи метод head"
   ]
  },
  {
   "cell_type": "code",
   "execution_count": 12,
   "id": "4edddff0-038a-4af2-9f48-87ff6e214dad",
   "metadata": {},
   "outputs": [
    {
     "data": {
      "text/html": [
       "<div>\n",
       "<style scoped>\n",
       "    .dataframe tbody tr th:only-of-type {\n",
       "        vertical-align: middle;\n",
       "    }\n",
       "\n",
       "    .dataframe tbody tr th {\n",
       "        vertical-align: top;\n",
       "    }\n",
       "\n",
       "    .dataframe thead th {\n",
       "        text-align: right;\n",
       "    }\n",
       "</style>\n",
       "<table border=\"1\" class=\"dataframe\">\n",
       "  <thead>\n",
       "    <tr style=\"text-align: right;\">\n",
       "      <th></th>\n",
       "      <th>N</th>\n",
       "      <th>Посада</th>\n",
       "      <th>Мова програмування</th>\n",
       "      <th>Спеціалізація</th>\n",
       "      <th>Загальний досвід роботи</th>\n",
       "      <th>Досвід роботи на поточному місці</th>\n",
       "      <th>Зарплата на місяць</th>\n",
       "      <th>Зміна зарплати за 12 місяців</th>\n",
       "      <th>Місто</th>\n",
       "      <th>Розмір компанії</th>\n",
       "      <th>...</th>\n",
       "      <th>Ще студент</th>\n",
       "      <th>Рівень англійської</th>\n",
       "      <th>Предметна область</th>\n",
       "      <th>Дата заповнення</th>\n",
       "      <th>User.Agent</th>\n",
       "      <th>exp</th>\n",
       "      <th>current_job_exp</th>\n",
       "      <th>salary</th>\n",
       "      <th>Валюта</th>\n",
       "      <th>cls</th>\n",
       "    </tr>\n",
       "  </thead>\n",
       "  <tbody>\n",
       "    <tr>\n",
       "      <th>0</th>\n",
       "      <td>1</td>\n",
       "      <td>Junior QA engineer</td>\n",
       "      <td>NaN</td>\n",
       "      <td>Manual QA</td>\n",
       "      <td>0.5</td>\n",
       "      <td>0.5</td>\n",
       "      <td>400</td>\n",
       "      <td>0</td>\n",
       "      <td>Харків</td>\n",
       "      <td>до 10 осіб</td>\n",
       "      <td>...</td>\n",
       "      <td>True</td>\n",
       "      <td>Pre-intermediate (нище середнього)</td>\n",
       "      <td>iOS,eCommerce</td>\n",
       "      <td>12/06/2017 12:38:08</td>\n",
       "      <td>Mozilla/5.0 (Windows NT 10.0; Win64; x64) Appl...</td>\n",
       "      <td>0.5</td>\n",
       "      <td>0.5</td>\n",
       "      <td>400</td>\n",
       "      <td>NaN</td>\n",
       "      <td>QA</td>\n",
       "    </tr>\n",
       "    <tr>\n",
       "      <th>1</th>\n",
       "      <td>2</td>\n",
       "      <td>Junior QA engineer</td>\n",
       "      <td>NaN</td>\n",
       "      <td>Manual QA</td>\n",
       "      <td>менше 3 місяців</td>\n",
       "      <td>менше 3 місяців</td>\n",
       "      <td>430</td>\n",
       "      <td>130</td>\n",
       "      <td>Харків</td>\n",
       "      <td>більше 1000 осіб</td>\n",
       "      <td>...</td>\n",
       "      <td>True</td>\n",
       "      <td>Upper-Intermediate (вище середнього)</td>\n",
       "      <td>Веб-розробка</td>\n",
       "      <td>12/06/2017 12:42:51</td>\n",
       "      <td>Mozilla/5.0 (iPad; CPU OS 10_2_1 like Mac OS X...</td>\n",
       "      <td>0.0</td>\n",
       "      <td>0.0</td>\n",
       "      <td>430</td>\n",
       "      <td>NaN</td>\n",
       "      <td>QA</td>\n",
       "    </tr>\n",
       "    <tr>\n",
       "      <th>2</th>\n",
       "      <td>3</td>\n",
       "      <td>Software Engineer</td>\n",
       "      <td>C#/.NET</td>\n",
       "      <td>NaN</td>\n",
       "      <td>4</td>\n",
       "      <td>1</td>\n",
       "      <td>2500</td>\n",
       "      <td>800</td>\n",
       "      <td>Київ</td>\n",
       "      <td>до 1000 осіб</td>\n",
       "      <td>...</td>\n",
       "      <td>False</td>\n",
       "      <td>Intermediate (середній)</td>\n",
       "      <td>Веб-розробка,Корпоративні системи</td>\n",
       "      <td>12/06/2017 13:02:47</td>\n",
       "      <td>Mozilla/5.0 (Windows NT 10.0; Win64; x64) Appl...</td>\n",
       "      <td>4.0</td>\n",
       "      <td>1.0</td>\n",
       "      <td>2500</td>\n",
       "      <td>NaN</td>\n",
       "      <td>DEV</td>\n",
       "    </tr>\n",
       "    <tr>\n",
       "      <th>3</th>\n",
       "      <td>4</td>\n",
       "      <td>Software Engineer</td>\n",
       "      <td>JavaScript</td>\n",
       "      <td>NaN</td>\n",
       "      <td>5</td>\n",
       "      <td>4</td>\n",
       "      <td>2000</td>\n",
       "      <td>400</td>\n",
       "      <td>Одеса</td>\n",
       "      <td>до 200 осіб</td>\n",
       "      <td>...</td>\n",
       "      <td>False</td>\n",
       "      <td>Pre-intermediate (нище середнього)</td>\n",
       "      <td>Desktop Applications,Веб-розробка</td>\n",
       "      <td>12/06/2017 13:03:01</td>\n",
       "      <td>Mozilla/5.0 (Windows NT 6.1; Win64; x64) Apple...</td>\n",
       "      <td>5.0</td>\n",
       "      <td>4.0</td>\n",
       "      <td>2000</td>\n",
       "      <td>NaN</td>\n",
       "      <td>DEV</td>\n",
       "    </tr>\n",
       "    <tr>\n",
       "      <th>4</th>\n",
       "      <td>5</td>\n",
       "      <td>Senior Software Engineer</td>\n",
       "      <td>JavaScript</td>\n",
       "      <td>NaN</td>\n",
       "      <td>10 і більше років</td>\n",
       "      <td>0.5</td>\n",
       "      <td>4500</td>\n",
       "      <td>500</td>\n",
       "      <td>Інше</td>\n",
       "      <td>до 10 осіб</td>\n",
       "      <td>...</td>\n",
       "      <td>False</td>\n",
       "      <td>Intermediate (середній)</td>\n",
       "      <td>Desktop Applications,Веб-розробка</td>\n",
       "      <td>12/06/2017 13:03:47</td>\n",
       "      <td>Mozilla/5.0 (iPhone; CPU iPhone OS 10_3_2 like...</td>\n",
       "      <td>10.0</td>\n",
       "      <td>0.5</td>\n",
       "      <td>4500</td>\n",
       "      <td>NaN</td>\n",
       "      <td>DEV</td>\n",
       "    </tr>\n",
       "  </tbody>\n",
       "</table>\n",
       "<p>5 rows × 25 columns</p>\n",
       "</div>"
      ],
      "text/plain": [
       "   N                    Посада Мова програмування Спеціалізація  \\\n",
       "0  1        Junior QA engineer                NaN     Manual QA   \n",
       "1  2        Junior QA engineer                NaN     Manual QA   \n",
       "2  3         Software Engineer            C#/.NET           NaN   \n",
       "3  4         Software Engineer         JavaScript           NaN   \n",
       "4  5  Senior Software Engineer         JavaScript           NaN   \n",
       "\n",
       "  Загальний досвід роботи Досвід роботи на поточному місці  \\\n",
       "0                     0.5                              0.5   \n",
       "1         менше 3 місяців                  менше 3 місяців   \n",
       "2                       4                                1   \n",
       "3                       5                                4   \n",
       "4       10 і більше років                              0.5   \n",
       "\n",
       "   Зарплата на місяць  Зміна зарплати за 12 місяців   Місто   Розмір компанії  \\\n",
       "0                 400                             0  Харків        до 10 осіб   \n",
       "1                 430                           130  Харків  більше 1000 осіб   \n",
       "2                2500                           800    Київ      до 1000 осіб   \n",
       "3                2000                           400   Одеса       до 200 осіб   \n",
       "4                4500                           500    Інше        до 10 осіб   \n",
       "\n",
       "   ... Ще студент                    Рівень англійської  \\\n",
       "0  ...       True    Pre-intermediate (нище середнього)   \n",
       "1  ...       True  Upper-Intermediate (вище середнього)   \n",
       "2  ...      False               Intermediate (середній)   \n",
       "3  ...      False    Pre-intermediate (нище середнього)   \n",
       "4  ...      False               Intermediate (середній)   \n",
       "\n",
       "                   Предметна область      Дата заповнення  \\\n",
       "0                      iOS,eCommerce  12/06/2017 12:38:08   \n",
       "1                       Веб-розробка  12/06/2017 12:42:51   \n",
       "2  Веб-розробка,Корпоративні системи  12/06/2017 13:02:47   \n",
       "3  Desktop Applications,Веб-розробка  12/06/2017 13:03:01   \n",
       "4  Desktop Applications,Веб-розробка  12/06/2017 13:03:47   \n",
       "\n",
       "                                          User.Agent   exp current_job_exp  \\\n",
       "0  Mozilla/5.0 (Windows NT 10.0; Win64; x64) Appl...   0.5             0.5   \n",
       "1  Mozilla/5.0 (iPad; CPU OS 10_2_1 like Mac OS X...   0.0             0.0   \n",
       "2  Mozilla/5.0 (Windows NT 10.0; Win64; x64) Appl...   4.0             1.0   \n",
       "3  Mozilla/5.0 (Windows NT 6.1; Win64; x64) Apple...   5.0             4.0   \n",
       "4  Mozilla/5.0 (iPhone; CPU iPhone OS 10_3_2 like...  10.0             0.5   \n",
       "\n",
       "  salary Валюта  cls  \n",
       "0    400    NaN   QA  \n",
       "1    430    NaN   QA  \n",
       "2   2500    NaN  DEV  \n",
       "3   2000    NaN  DEV  \n",
       "4   4500    NaN  DEV  \n",
       "\n",
       "[5 rows x 25 columns]"
      ]
     },
     "execution_count": 12,
     "metadata": {},
     "output_type": "execute_result"
    }
   ],
   "source": [
    "users.head()"
   ]
  },
  {
   "cell_type": "markdown",
   "id": "21029ed9-5e1a-480c-b231-b2bbd7d0b990",
   "metadata": {},
   "source": [
    "## Визначте розмір таблиці за допомогою методу shape"
   ]
  },
  {
   "cell_type": "code",
   "execution_count": 13,
   "id": "fabb0fe2-a3c4-46ca-afcf-e2a68952e00f",
   "metadata": {},
   "outputs": [
    {
     "data": {
      "text/plain": [
       "(8704, 25)"
      ]
     },
     "execution_count": 13,
     "metadata": {},
     "output_type": "execute_result"
    }
   ],
   "source": [
    "users.shape"
   ]
  },
  {
   "cell_type": "markdown",
   "id": "56b246d5-2e3e-43aa-ace2-67e14d499fd5",
   "metadata": {},
   "source": [
    "## Визначте типи всіх стовпців за допомогою dataframe.dtypes"
   ]
  },
  {
   "cell_type": "code",
   "execution_count": 14,
   "id": "b8eb3d94-5af5-447f-8bf2-a27176de72d9",
   "metadata": {},
   "outputs": [
    {
     "data": {
      "text/plain": [
       "N                                     int64\n",
       "Посада                               object\n",
       "Мова програмування                   object\n",
       "Спеціалізація                        object\n",
       "Загальний досвід роботи              object\n",
       "Досвід роботи на поточному місці     object\n",
       "Зарплата на місяць                    int64\n",
       "Зміна зарплати за 12 місяців          int64\n",
       "Місто                                object\n",
       "Розмір компанії                      object\n",
       "Тип компанії                         object\n",
       "Стать                                object\n",
       "Вік                                   int64\n",
       "Освіта                               object\n",
       "Університет                          object\n",
       "Ще студент                             bool\n",
       "Рівень англійської                   object\n",
       "Предметна область                    object\n",
       "Дата заповнення                      object\n",
       "User.Agent                           object\n",
       "exp                                 float64\n",
       "current_job_exp                     float64\n",
       "salary                                int64\n",
       "Валюта                               object\n",
       "cls                                  object\n",
       "dtype: object"
      ]
     },
     "execution_count": 14,
     "metadata": {},
     "output_type": "execute_result"
    }
   ],
   "source": [
    "users.dtypes"
   ]
  },
  {
   "cell_type": "markdown",
   "id": "6a3ca4aa-f317-4f22-bdfc-556fd246949e",
   "metadata": {},
   "source": [
    "## Порахуйте, яка частка пропусків міститься в кожній колонці (використовуйте методи isnull та sum)"
   ]
  },
  {
   "cell_type": "code",
   "execution_count": 15,
   "id": "c895ffd4-db0e-4b73-a6f2-1e821b232541",
   "metadata": {},
   "outputs": [
    {
     "data": {
      "text/plain": [
       "N                                      0\n",
       "Посада                                 0\n",
       "Мова програмування                  3850\n",
       "Спеціалізація                       7219\n",
       "Загальний досвід роботи                0\n",
       "Досвід роботи на поточному місці       0\n",
       "Зарплата на місяць                     0\n",
       "Зміна зарплати за 12 місяців           0\n",
       "Місто                                  0\n",
       "Розмір компанії                        0\n",
       "Тип компанії                           0\n",
       "Стать                                  0\n",
       "Вік                                    0\n",
       "Освіта                                 0\n",
       "Університет                          358\n",
       "Ще студент                             0\n",
       "Рівень англійської                     0\n",
       "Предметна область                    223\n",
       "Дата заповнення                        0\n",
       "User.Agent                             0\n",
       "exp                                    0\n",
       "current_job_exp                        0\n",
       "salary                                 0\n",
       "Валюта                              8694\n",
       "cls                                 1574\n",
       "dtype: int64"
      ]
     },
     "execution_count": 15,
     "metadata": {},
     "output_type": "execute_result"
    }
   ],
   "source": [
    "users.isnull().sum()"
   ]
  },
  {
   "cell_type": "markdown",
   "id": "29bc80d3-cbb8-4a04-ae6d-74de298d8414",
   "metadata": {},
   "source": [
    "## Видаліть усі стовпці з пропусками, крім стовпця \"Мова програмування\""
   ]
  },
  {
   "cell_type": "code",
   "execution_count": 22,
   "id": "3b7cc38d-2714-4399-bf07-596f11716f2d",
   "metadata": {},
   "outputs": [
    {
     "data": {
      "text/html": [
       "<div>\n",
       "<style scoped>\n",
       "    .dataframe tbody tr th:only-of-type {\n",
       "        vertical-align: middle;\n",
       "    }\n",
       "\n",
       "    .dataframe tbody tr th {\n",
       "        vertical-align: top;\n",
       "    }\n",
       "\n",
       "    .dataframe thead th {\n",
       "        text-align: right;\n",
       "    }\n",
       "</style>\n",
       "<table border=\"1\" class=\"dataframe\">\n",
       "  <thead>\n",
       "    <tr style=\"text-align: right;\">\n",
       "      <th></th>\n",
       "      <th>N</th>\n",
       "      <th>Посада</th>\n",
       "      <th>Загальний досвід роботи</th>\n",
       "      <th>Досвід роботи на поточному місці</th>\n",
       "      <th>Зарплата на місяць</th>\n",
       "      <th>Зміна зарплати за 12 місяців</th>\n",
       "      <th>Місто</th>\n",
       "      <th>Розмір компанії</th>\n",
       "      <th>Тип компанії</th>\n",
       "      <th>Стать</th>\n",
       "      <th>Вік</th>\n",
       "      <th>Освіта</th>\n",
       "      <th>Ще студент</th>\n",
       "      <th>Рівень англійської</th>\n",
       "      <th>Дата заповнення</th>\n",
       "      <th>User.Agent</th>\n",
       "      <th>exp</th>\n",
       "      <th>current_job_exp</th>\n",
       "      <th>salary</th>\n",
       "      <th>Мова програмування</th>\n",
       "    </tr>\n",
       "  </thead>\n",
       "  <tbody>\n",
       "    <tr>\n",
       "      <th>0</th>\n",
       "      <td>1</td>\n",
       "      <td>Junior QA engineer</td>\n",
       "      <td>0.5</td>\n",
       "      <td>0.5</td>\n",
       "      <td>400</td>\n",
       "      <td>0</td>\n",
       "      <td>Харків</td>\n",
       "      <td>до 10 осіб</td>\n",
       "      <td>Аутсорсингова</td>\n",
       "      <td>жіноча</td>\n",
       "      <td>20</td>\n",
       "      <td>Неповна Вища</td>\n",
       "      <td>True</td>\n",
       "      <td>Pre-intermediate (нище середнього)</td>\n",
       "      <td>12/06/2017 12:38:08</td>\n",
       "      <td>Mozilla/5.0 (Windows NT 10.0; Win64; x64) Appl...</td>\n",
       "      <td>0.5</td>\n",
       "      <td>0.5</td>\n",
       "      <td>400</td>\n",
       "      <td>NaN</td>\n",
       "    </tr>\n",
       "    <tr>\n",
       "      <th>1</th>\n",
       "      <td>2</td>\n",
       "      <td>Junior QA engineer</td>\n",
       "      <td>менше 3 місяців</td>\n",
       "      <td>менше 3 місяців</td>\n",
       "      <td>430</td>\n",
       "      <td>130</td>\n",
       "      <td>Харків</td>\n",
       "      <td>більше 1000 осіб</td>\n",
       "      <td>Аутсорсингова</td>\n",
       "      <td>жіноча</td>\n",
       "      <td>21</td>\n",
       "      <td>Неповна Вища</td>\n",
       "      <td>True</td>\n",
       "      <td>Upper-Intermediate (вище середнього)</td>\n",
       "      <td>12/06/2017 12:42:51</td>\n",
       "      <td>Mozilla/5.0 (iPad; CPU OS 10_2_1 like Mac OS X...</td>\n",
       "      <td>0.0</td>\n",
       "      <td>0.0</td>\n",
       "      <td>430</td>\n",
       "      <td>NaN</td>\n",
       "    </tr>\n",
       "    <tr>\n",
       "      <th>2</th>\n",
       "      <td>3</td>\n",
       "      <td>Software Engineer</td>\n",
       "      <td>4</td>\n",
       "      <td>1</td>\n",
       "      <td>2500</td>\n",
       "      <td>800</td>\n",
       "      <td>Київ</td>\n",
       "      <td>до 1000 осіб</td>\n",
       "      <td>Аутсорсингова</td>\n",
       "      <td>чоловіча</td>\n",
       "      <td>26</td>\n",
       "      <td>Вища</td>\n",
       "      <td>False</td>\n",
       "      <td>Intermediate (середній)</td>\n",
       "      <td>12/06/2017 13:02:47</td>\n",
       "      <td>Mozilla/5.0 (Windows NT 10.0; Win64; x64) Appl...</td>\n",
       "      <td>4.0</td>\n",
       "      <td>1.0</td>\n",
       "      <td>2500</td>\n",
       "      <td>C#/.NET</td>\n",
       "    </tr>\n",
       "    <tr>\n",
       "      <th>3</th>\n",
       "      <td>4</td>\n",
       "      <td>Software Engineer</td>\n",
       "      <td>5</td>\n",
       "      <td>4</td>\n",
       "      <td>2000</td>\n",
       "      <td>400</td>\n",
       "      <td>Одеса</td>\n",
       "      <td>до 200 осіб</td>\n",
       "      <td>Продуктова</td>\n",
       "      <td>чоловіча</td>\n",
       "      <td>30</td>\n",
       "      <td>Середня</td>\n",
       "      <td>False</td>\n",
       "      <td>Pre-intermediate (нище середнього)</td>\n",
       "      <td>12/06/2017 13:03:01</td>\n",
       "      <td>Mozilla/5.0 (Windows NT 6.1; Win64; x64) Apple...</td>\n",
       "      <td>5.0</td>\n",
       "      <td>4.0</td>\n",
       "      <td>2000</td>\n",
       "      <td>JavaScript</td>\n",
       "    </tr>\n",
       "    <tr>\n",
       "      <th>4</th>\n",
       "      <td>5</td>\n",
       "      <td>Senior Software Engineer</td>\n",
       "      <td>10 і більше років</td>\n",
       "      <td>0.5</td>\n",
       "      <td>4500</td>\n",
       "      <td>500</td>\n",
       "      <td>Інше</td>\n",
       "      <td>до 10 осіб</td>\n",
       "      <td>Продуктова</td>\n",
       "      <td>чоловіча</td>\n",
       "      <td>30</td>\n",
       "      <td>Технікум / Коледж</td>\n",
       "      <td>False</td>\n",
       "      <td>Intermediate (середній)</td>\n",
       "      <td>12/06/2017 13:03:47</td>\n",
       "      <td>Mozilla/5.0 (iPhone; CPU iPhone OS 10_3_2 like...</td>\n",
       "      <td>10.0</td>\n",
       "      <td>0.5</td>\n",
       "      <td>4500</td>\n",
       "      <td>JavaScript</td>\n",
       "    </tr>\n",
       "  </tbody>\n",
       "</table>\n",
       "</div>"
      ],
      "text/plain": [
       "   N                    Посада Загальний досвід роботи  \\\n",
       "0  1        Junior QA engineer                     0.5   \n",
       "1  2        Junior QA engineer         менше 3 місяців   \n",
       "2  3         Software Engineer                       4   \n",
       "3  4         Software Engineer                       5   \n",
       "4  5  Senior Software Engineer       10 і більше років   \n",
       "\n",
       "  Досвід роботи на поточному місці  Зарплата на місяць  \\\n",
       "0                              0.5                 400   \n",
       "1                  менше 3 місяців                 430   \n",
       "2                                1                2500   \n",
       "3                                4                2000   \n",
       "4                              0.5                4500   \n",
       "\n",
       "   Зміна зарплати за 12 місяців   Місто   Розмір компанії   Тип компанії  \\\n",
       "0                             0  Харків        до 10 осіб  Аутсорсингова   \n",
       "1                           130  Харків  більше 1000 осіб  Аутсорсингова   \n",
       "2                           800    Київ      до 1000 осіб  Аутсорсингова   \n",
       "3                           400   Одеса       до 200 осіб     Продуктова   \n",
       "4                           500    Інше        до 10 осіб     Продуктова   \n",
       "\n",
       "      Стать  Вік             Освіта  Ще студент  \\\n",
       "0    жіноча   20       Неповна Вища        True   \n",
       "1    жіноча   21       Неповна Вища        True   \n",
       "2  чоловіча   26               Вища       False   \n",
       "3  чоловіча   30            Середня       False   \n",
       "4  чоловіча   30  Технікум / Коледж       False   \n",
       "\n",
       "                     Рівень англійської      Дата заповнення  \\\n",
       "0    Pre-intermediate (нище середнього)  12/06/2017 12:38:08   \n",
       "1  Upper-Intermediate (вище середнього)  12/06/2017 12:42:51   \n",
       "2               Intermediate (середній)  12/06/2017 13:02:47   \n",
       "3    Pre-intermediate (нище середнього)  12/06/2017 13:03:01   \n",
       "4               Intermediate (середній)  12/06/2017 13:03:47   \n",
       "\n",
       "                                          User.Agent   exp  current_job_exp  \\\n",
       "0  Mozilla/5.0 (Windows NT 10.0; Win64; x64) Appl...   0.5              0.5   \n",
       "1  Mozilla/5.0 (iPad; CPU OS 10_2_1 like Mac OS X...   0.0              0.0   \n",
       "2  Mozilla/5.0 (Windows NT 10.0; Win64; x64) Appl...   4.0              1.0   \n",
       "3  Mozilla/5.0 (Windows NT 6.1; Win64; x64) Apple...   5.0              4.0   \n",
       "4  Mozilla/5.0 (iPhone; CPU iPhone OS 10_3_2 like...  10.0              0.5   \n",
       "\n",
       "   salary Мова програмування  \n",
       "0     400                NaN  \n",
       "1     430                NaN  \n",
       "2    2500            C#/.NET  \n",
       "3    2000         JavaScript  \n",
       "4    4500         JavaScript  "
      ]
     },
     "execution_count": 22,
     "metadata": {},
     "output_type": "execute_result"
    }
   ],
   "source": [
    "new_table = users.dropna(axis=1, how='any').join(users[['Мова програмування']])\n",
    "new_table.head()"
   ]
  },
  {
   "cell_type": "markdown",
   "id": "565f5c18-bb13-4231-9fcd-7b6cdde2d166",
   "metadata": {},
   "source": [
    "## Знову порахуйте, яка частка пропусків міститься в кожній колонці і переконайтеся, що залишився тільки стовпець \"Мова.програмування\""
   ]
  },
  {
   "cell_type": "code",
   "execution_count": 23,
   "id": "70907134-f671-4b81-aa94-439fe5333ccd",
   "metadata": {},
   "outputs": [
    {
     "data": {
      "text/plain": [
       "N                                      0\n",
       "Посада                                 0\n",
       "Загальний досвід роботи                0\n",
       "Досвід роботи на поточному місці       0\n",
       "Зарплата на місяць                     0\n",
       "Зміна зарплати за 12 місяців           0\n",
       "Місто                                  0\n",
       "Розмір компанії                        0\n",
       "Тип компанії                           0\n",
       "Стать                                  0\n",
       "Вік                                    0\n",
       "Освіта                                 0\n",
       "Ще студент                             0\n",
       "Рівень англійської                     0\n",
       "Дата заповнення                        0\n",
       "User.Agent                             0\n",
       "exp                                    0\n",
       "current_job_exp                        0\n",
       "salary                                 0\n",
       "Мова програмування                  3850\n",
       "dtype: int64"
      ]
     },
     "execution_count": 23,
     "metadata": {},
     "output_type": "execute_result"
    }
   ],
   "source": [
    "new_table.isnull().sum()"
   ]
  },
  {
   "cell_type": "markdown",
   "id": "bcff35f3-fd17-4660-bfa3-a0dd38bc39ec",
   "metadata": {},
   "source": [
    "## Видаліть усі рядки у вихідній таблиці за допомогою методу dropna"
   ]
  },
  {
   "cell_type": "code",
   "execution_count": 26,
   "id": "f872df82-52b1-43b2-bb85-9c21c49f74e6",
   "metadata": {},
   "outputs": [],
   "source": [
    "table_dropped = new_table.dropna()"
   ]
  },
  {
   "cell_type": "markdown",
   "id": "a9662602-c16c-4c2f-921e-f65a95da3d03",
   "metadata": {},
   "source": [
    "## Визначте новий розмір таблиці за допомогою методу shape"
   ]
  },
  {
   "cell_type": "code",
   "execution_count": 27,
   "id": "bacbaa12-f57c-411f-9f77-edf584b82fb4",
   "metadata": {},
   "outputs": [
    {
     "data": {
      "text/plain": [
       "(4854, 20)"
      ]
     },
     "execution_count": 27,
     "metadata": {},
     "output_type": "execute_result"
    }
   ],
   "source": [
    "table_dropped.shape"
   ]
  },
  {
   "cell_type": "markdown",
   "id": "bf06e644-82f3-427e-ab04-4b0394558670",
   "metadata": {},
   "source": [
    "## Створіть нову таблицю python_data, в якій будуть тільки рядки зі спеціалістами, які вказали мову програмування Python"
   ]
  },
  {
   "cell_type": "code",
   "execution_count": 29,
   "id": "9fee3495-985e-4a4c-8d4a-009125c0ebf9",
   "metadata": {},
   "outputs": [],
   "source": [
    "table_dropped[table_dropped['Мова програмування'] == 'Python']\n",
    "table_dropped.to_csv(\"python_data.csv\")"
   ]
  },
  {
   "cell_type": "markdown",
   "id": "ad0b139d-dbbc-4fe7-8c9b-b9cac1c4720b",
   "metadata": {},
   "source": [
    "## Визначте розмір таблиці python_data за допомогою методу shape"
   ]
  },
  {
   "cell_type": "code",
   "execution_count": 30,
   "id": "d02f04f2-9ad8-46fc-a7fb-ba9febc3377d",
   "metadata": {},
   "outputs": [
    {
     "data": {
      "text/plain": [
       "(4854, 20)"
      ]
     },
     "execution_count": 30,
     "metadata": {},
     "output_type": "execute_result"
    }
   ],
   "source": [
    "table_dropped.shape"
   ]
  },
  {
   "cell_type": "markdown",
   "id": "df1016f9-1b8e-4323-921b-82573570db01",
   "metadata": {},
   "source": [
    "## Використовуючи метод groupby, виконайте групування за стовпчиком \"Посада\""
   ]
  },
  {
   "cell_type": "code",
   "execution_count": 31,
   "id": "523727dd-6d05-4704-87a0-3a8726c767c3",
   "metadata": {},
   "outputs": [
    {
     "data": {
      "text/plain": [
       "Посада\n",
       "Data Scientist / Data Analyst       1\n",
       "DevOps                              1\n",
       "ERP / CRM                           1\n",
       "HTML coder                          5\n",
       "Junior Software Engineer         1280\n",
       "Product Manager                     1\n",
       "Senior Software Engineer         1080\n",
       "Software Engineer                2168\n",
       "System Architect                   65\n",
       "Team lead                           2\n",
       "Technical Lead                    250\n",
       "dtype: int64"
      ]
     },
     "execution_count": 31,
     "metadata": {},
     "output_type": "execute_result"
    }
   ],
   "source": [
    "table_dropped.groupby('Посада').size()"
   ]
  },
  {
   "cell_type": "markdown",
   "id": "8f7c7524-8fa9-4f94-845f-c44c4329bf0b",
   "metadata": {},
   "source": [
    "## Створіть новий DataFrame, де для згрупованих даних за стовпчиком \"Посада\", виконайте агрегацію даних за допомогою методу agg і знайдіть мінімальне та максимальне значення у стовпчику \"Зарплата.в.місяць\""
   ]
  },
  {
   "cell_type": "code",
   "execution_count": 32,
   "id": "753c3779-405b-42a3-9c15-334ffdfef3ed",
   "metadata": {},
   "outputs": [
    {
     "data": {
      "text/html": [
       "<div>\n",
       "<style scoped>\n",
       "    .dataframe tbody tr th:only-of-type {\n",
       "        vertical-align: middle;\n",
       "    }\n",
       "\n",
       "    .dataframe tbody tr th {\n",
       "        vertical-align: top;\n",
       "    }\n",
       "\n",
       "    .dataframe thead th {\n",
       "        text-align: right;\n",
       "    }\n",
       "</style>\n",
       "<table border=\"1\" class=\"dataframe\">\n",
       "  <thead>\n",
       "    <tr style=\"text-align: right;\">\n",
       "      <th></th>\n",
       "      <th>min</th>\n",
       "      <th>max</th>\n",
       "    </tr>\n",
       "    <tr>\n",
       "      <th>Посада</th>\n",
       "      <th></th>\n",
       "      <th></th>\n",
       "    </tr>\n",
       "  </thead>\n",
       "  <tbody>\n",
       "    <tr>\n",
       "      <th>Data Scientist / Data Analyst</th>\n",
       "      <td>2700</td>\n",
       "      <td>2700</td>\n",
       "    </tr>\n",
       "    <tr>\n",
       "      <th>DevOps</th>\n",
       "      <td>7000</td>\n",
       "      <td>7000</td>\n",
       "    </tr>\n",
       "    <tr>\n",
       "      <th>ERP / CRM</th>\n",
       "      <td>2000</td>\n",
       "      <td>2000</td>\n",
       "    </tr>\n",
       "    <tr>\n",
       "      <th>HTML coder</th>\n",
       "      <td>385</td>\n",
       "      <td>600</td>\n",
       "    </tr>\n",
       "    <tr>\n",
       "      <th>Junior Software Engineer</th>\n",
       "      <td>75</td>\n",
       "      <td>2600</td>\n",
       "    </tr>\n",
       "    <tr>\n",
       "      <th>Product Manager</th>\n",
       "      <td>3000</td>\n",
       "      <td>3000</td>\n",
       "    </tr>\n",
       "    <tr>\n",
       "      <th>Senior Software Engineer</th>\n",
       "      <td>350</td>\n",
       "      <td>9200</td>\n",
       "    </tr>\n",
       "    <tr>\n",
       "      <th>Software Engineer</th>\n",
       "      <td>100</td>\n",
       "      <td>7000</td>\n",
       "    </tr>\n",
       "    <tr>\n",
       "      <th>System Architect</th>\n",
       "      <td>400</td>\n",
       "      <td>10000</td>\n",
       "    </tr>\n",
       "    <tr>\n",
       "      <th>Team lead</th>\n",
       "      <td>2500</td>\n",
       "      <td>4000</td>\n",
       "    </tr>\n",
       "    <tr>\n",
       "      <th>Technical Lead</th>\n",
       "      <td>500</td>\n",
       "      <td>18000</td>\n",
       "    </tr>\n",
       "  </tbody>\n",
       "</table>\n",
       "</div>"
      ],
      "text/plain": [
       "                                min    max\n",
       "Посада                                    \n",
       "Data Scientist / Data Analyst  2700   2700\n",
       "DevOps                         7000   7000\n",
       "ERP / CRM                      2000   2000\n",
       "HTML coder                      385    600\n",
       "Junior Software Engineer         75   2600\n",
       "Product Manager                3000   3000\n",
       "Senior Software Engineer        350   9200\n",
       "Software Engineer               100   7000\n",
       "System Architect                400  10000\n",
       "Team lead                      2500   4000\n",
       "Technical Lead                  500  18000"
      ]
     },
     "execution_count": 32,
     "metadata": {},
     "output_type": "execute_result"
    }
   ],
   "source": [
    "table_dropped.groupby('Посада')['Зарплата на місяць'].agg(['min', 'max'])"
   ]
  },
  {
   "cell_type": "markdown",
   "id": "7416af65-386a-46eb-89ff-250cff826eaf",
   "metadata": {},
   "source": [
    "## Створіть функцію fill_avg_salary, яка повертатиме середнє значення заробітної плати на місяць. Використовуйте її для методу apply та створіть новий стовпчик \"avg\""
   ]
  },
  {
   "cell_type": "code",
   "execution_count": 54,
   "id": "2c90c007-b930-4a2f-b921-21f3eb48e9b7",
   "metadata": {},
   "outputs": [],
   "source": [
    "def fill_avg_salary(x):\n",
    "    return x.mean()\n",
    "\n",
    "average_salary = table_dropped.groupby('Посада')['Зарплата на місяць'].apply(fill_avg_salary)"
   ]
  },
  {
   "cell_type": "markdown",
   "id": "699d0bf9-f603-491a-bac1-a9be3ca8011e",
   "metadata": {},
   "source": [
    "## Створіть описову статистику за допомогою методу describe для нового стовпчика."
   ]
  },
  {
   "cell_type": "code",
   "execution_count": 61,
   "id": "3127b9e7-f6fc-4752-9cb2-77d433eeea46",
   "metadata": {},
   "outputs": [
    {
     "data": {
      "text/plain": [
       "count      11.000000\n",
       "mean     2907.803502\n",
       "std      1828.363270\n",
       "min       457.000000\n",
       "25%      1839.315037\n",
       "50%      3000.000000\n",
       "75%      3457.136000\n",
       "max      7000.000000\n",
       "Name: Зарплата на місяць, dtype: float64"
      ]
     },
     "execution_count": 61,
     "metadata": {},
     "output_type": "execute_result"
    }
   ],
   "source": [
    "average_salary.describe()"
   ]
  },
  {
   "cell_type": "markdown",
   "id": "ce7df5de-d5b0-4469-97a5-3910000acf42",
   "metadata": {},
   "source": [
    "## Збережіть отриману таблицю в CSV файл"
   ]
  },
  {
   "cell_type": "code",
   "execution_count": 62,
   "id": "3d0002a5-1957-44a4-8f5d-858fda27f9b8",
   "metadata": {},
   "outputs": [],
   "source": [
    "average_salary.to_csv('average_salary.csv')"
   ]
  }
 ],
 "metadata": {
  "kernelspec": {
   "display_name": "Python 3 (ipykernel)",
   "language": "python",
   "name": "python3"
  },
  "language_info": {
   "codemirror_mode": {
    "name": "ipython",
    "version": 3
   },
   "file_extension": ".py",
   "mimetype": "text/x-python",
   "name": "python",
   "nbconvert_exporter": "python",
   "pygments_lexer": "ipython3",
   "version": "3.12.4"
  }
 },
 "nbformat": 4,
 "nbformat_minor": 5
}
