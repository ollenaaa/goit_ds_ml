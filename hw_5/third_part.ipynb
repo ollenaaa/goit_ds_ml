{
 "cells": [
  {
   "cell_type": "markdown",
   "id": "950fabb9-94b9-4a3c-9a5b-4e3ea58b0920",
   "metadata": {},
   "source": [
    "# Необхідно виконати:"
   ]
  },
  {
   "cell_type": "markdown",
   "id": "8ff6060a-daf7-4c29-8f4e-709c818d50a8",
   "metadata": {},
   "source": [
    "## Прочитайте csv файл (використовуйте функцію read_csv) та виведіть перші 5 рядків (використовується функція head)"
   ]
  },
  {
   "cell_type": "code",
   "execution_count": 7,
   "id": "e304a04b-c89d-44c0-a95d-7537d985e909",
   "metadata": {},
   "outputs": [
    {
     "data": {
      "text/html": [
       "<div>\n",
       "<style scoped>\n",
       "    .dataframe tbody tr th:only-of-type {\n",
       "        vertical-align: middle;\n",
       "    }\n",
       "\n",
       "    .dataframe tbody tr th {\n",
       "        vertical-align: top;\n",
       "    }\n",
       "\n",
       "    .dataframe thead th {\n",
       "        text-align: right;\n",
       "    }\n",
       "</style>\n",
       "<table border=\"1\" class=\"dataframe\">\n",
       "  <thead>\n",
       "    <tr style=\"text-align: right;\">\n",
       "      <th></th>\n",
       "      <th>Name</th>\n",
       "      <th>Author</th>\n",
       "      <th>User Rating</th>\n",
       "      <th>Reviews</th>\n",
       "      <th>Price</th>\n",
       "      <th>Year</th>\n",
       "      <th>Genre</th>\n",
       "    </tr>\n",
       "  </thead>\n",
       "  <tbody>\n",
       "    <tr>\n",
       "      <th>0</th>\n",
       "      <td>10-Day Green Smoothie Cleanse</td>\n",
       "      <td>JJ Smith</td>\n",
       "      <td>4.7</td>\n",
       "      <td>17350</td>\n",
       "      <td>8</td>\n",
       "      <td>2016</td>\n",
       "      <td>Non Fiction</td>\n",
       "    </tr>\n",
       "    <tr>\n",
       "      <th>1</th>\n",
       "      <td>11/22/63: A Novel</td>\n",
       "      <td>Stephen King</td>\n",
       "      <td>4.6</td>\n",
       "      <td>2052</td>\n",
       "      <td>22</td>\n",
       "      <td>2011</td>\n",
       "      <td>Fiction</td>\n",
       "    </tr>\n",
       "    <tr>\n",
       "      <th>2</th>\n",
       "      <td>12 Rules for Life: An Antidote to Chaos</td>\n",
       "      <td>Jordan B. Peterson</td>\n",
       "      <td>4.7</td>\n",
       "      <td>18979</td>\n",
       "      <td>15</td>\n",
       "      <td>2018</td>\n",
       "      <td>Non Fiction</td>\n",
       "    </tr>\n",
       "    <tr>\n",
       "      <th>3</th>\n",
       "      <td>1984 (Signet Classics)</td>\n",
       "      <td>George Orwell</td>\n",
       "      <td>4.7</td>\n",
       "      <td>21424</td>\n",
       "      <td>6</td>\n",
       "      <td>2017</td>\n",
       "      <td>Fiction</td>\n",
       "    </tr>\n",
       "    <tr>\n",
       "      <th>4</th>\n",
       "      <td>5,000 Awesome Facts (About Everything!) (Natio...</td>\n",
       "      <td>National Geographic Kids</td>\n",
       "      <td>4.8</td>\n",
       "      <td>7665</td>\n",
       "      <td>12</td>\n",
       "      <td>2019</td>\n",
       "      <td>Non Fiction</td>\n",
       "    </tr>\n",
       "  </tbody>\n",
       "</table>\n",
       "</div>"
      ],
      "text/plain": [
       "                                                Name  \\\n",
       "0                      10-Day Green Smoothie Cleanse   \n",
       "1                                  11/22/63: A Novel   \n",
       "2            12 Rules for Life: An Antidote to Chaos   \n",
       "3                             1984 (Signet Classics)   \n",
       "4  5,000 Awesome Facts (About Everything!) (Natio...   \n",
       "\n",
       "                     Author  User Rating  Reviews  Price  Year        Genre  \n",
       "0                  JJ Smith          4.7    17350      8  2016  Non Fiction  \n",
       "1              Stephen King          4.6     2052     22  2011      Fiction  \n",
       "2        Jordan B. Peterson          4.7    18979     15  2018  Non Fiction  \n",
       "3             George Orwell          4.7    21424      6  2017      Fiction  \n",
       "4  National Geographic Kids          4.8     7665     12  2019  Non Fiction  "
      ]
     },
     "execution_count": 7,
     "metadata": {},
     "output_type": "execute_result"
    }
   ],
   "source": [
    "import pandas as pd\n",
    "\n",
    "books = pd.read_csv('bestsellers with categories.csv')\n",
    "books.head()"
   ]
  },
  {
   "cell_type": "markdown",
   "id": "53197acc-9d23-4b0d-95bc-2ef61f7975a4",
   "metadata": {},
   "source": [
    "## Виведіть розміри датасету (використовуйте атрибут shape)"
   ]
  },
  {
   "cell_type": "code",
   "execution_count": 11,
   "id": "3424b41e-8e3d-4c89-9fcf-0a08616c0015",
   "metadata": {},
   "outputs": [
    {
     "data": {
      "text/plain": [
       "(550, 7)"
      ]
     },
     "execution_count": 11,
     "metadata": {},
     "output_type": "execute_result"
    }
   ],
   "source": [
    "books.shape"
   ]
  },
  {
   "cell_type": "markdown",
   "id": "bf0105d6-0b33-4fbb-af38-aa58e69d16b5",
   "metadata": {},
   "source": [
    "### Відповідь: Про скільки книг зберігає дані датасет?  \n",
    "*Про 550 книг.*"
   ]
  },
  {
   "cell_type": "markdown",
   "id": "a23c3111-51c3-4b10-896d-1ae04f144fe7",
   "metadata": {},
   "source": [
    "# Первинне дослідження даних"
   ]
  },
  {
   "cell_type": "code",
   "execution_count": 9,
   "id": "57652fc5-8fa4-452b-946d-74411340fd6f",
   "metadata": {},
   "outputs": [],
   "source": [
    "books.columns = ['name', 'author', 'user_rating', 'reviews', 'price', 'year', 'genre']"
   ]
  },
  {
   "cell_type": "markdown",
   "id": "1ea4d537-dfcd-446b-a983-9908d529b679",
   "metadata": {
    "jp-MarkdownHeadingCollapsed": true
   },
   "source": [
    "## Перевірте, чи у всіх рядків вистачає даних: виведіть кількість пропусків (na) у кожному зі стовпців (використовуйте функції isna та sum)"
   ]
  },
  {
   "cell_type": "code",
   "execution_count": 8,
   "id": "13e745df-3d25-49c6-9d9b-47a2112b9f74",
   "metadata": {},
   "outputs": [
    {
     "data": {
      "text/plain": [
       "name           0\n",
       "author         0\n",
       "user_rating    0\n",
       "reviews        0\n",
       "price          0\n",
       "year           0\n",
       "genre          0\n",
       "dtype: int64"
      ]
     },
     "execution_count": 8,
     "metadata": {},
     "output_type": "execute_result"
    }
   ],
   "source": [
    "books.isna().sum()"
   ]
  },
  {
   "cell_type": "markdown",
   "id": "9b128c93-6309-4b00-a553-d65919ada05e",
   "metadata": {},
   "source": [
    "### Відповідь: Чи є в якихось змінних пропуски? (Так / ні)  \n",
    "*Ні.*"
   ]
  },
  {
   "cell_type": "markdown",
   "id": "707865ef-b41b-4c0e-88e3-9a10e69795c2",
   "metadata": {},
   "source": [
    "## Перевірте, які є унікальні значення в колонці genre (використовуйте функцію unique)"
   ]
  },
  {
   "cell_type": "code",
   "execution_count": 27,
   "id": "bc010878-aada-427b-b772-a50cab8b1b3f",
   "metadata": {},
   "outputs": [
    {
     "data": {
      "text/plain": [
       "array(['Non Fiction', 'Fiction'], dtype=object)"
      ]
     },
     "execution_count": 27,
     "metadata": {},
     "output_type": "execute_result"
    }
   ],
   "source": [
    "books['genre'].unique()"
   ]
  },
  {
   "cell_type": "markdown",
   "id": "d5436ed0-b9c7-4d0c-b015-32544e3e988c",
   "metadata": {},
   "source": [
    "### Відповідь: Які є унікальні жанри?  \n",
    "*Non Fiction та Fiction.*"
   ]
  },
  {
   "cell_type": "markdown",
   "id": "2c035d4b-0e28-4445-92c9-cfd4d3aab270",
   "metadata": {},
   "source": [
    "## Тепер подивіться на розподіл цін: побудуйте діаграму (використовуйте kind='hist')"
   ]
  },
  {
   "cell_type": "code",
   "execution_count": 25,
   "id": "ab582856-ef00-4e7d-aa20-ff6d2af615c5",
   "metadata": {},
   "outputs": [
    {
     "data": {
      "text/plain": [
       "<Axes: xlabel='price', ylabel='Count'>"
      ]
     },
     "execution_count": 25,
     "metadata": {},
     "output_type": "execute_result"
    },
    {
     "data": {
      "image/png": "[encoded data removed]",
      "text/plain": [
       "<Figure size 640x480 with 1 Axes>"
      ]
     },
     "metadata": {},
     "output_type": "display_data"
    }
   ],
   "source": [
    "import seaborn as sns\n",
    "sns.histplot(data=books, x='price')"
   ]
  },
  {
   "cell_type": "markdown",
   "id": "985a1958-85cf-4673-8c0b-34fe9cb36a5e",
   "metadata": {},
   "source": [
    "## Визначте, яка ціна у нас максимальна, мінімальна, середня, медіанна (використовуйте функції max, min, mean, median)"
   ]
  },
  {
   "cell_type": "code",
   "execution_count": 10,
   "id": "e1304db4-7443-4439-9b82-409fe8943725",
   "metadata": {},
   "outputs": [
    {
     "data": {
      "text/plain": [
       "(np.int64(105), np.int64(0), np.float64(13.1), np.float64(11.0))"
      ]
     },
     "execution_count": 10,
     "metadata": {},
     "output_type": "execute_result"
    }
   ],
   "source": [
    "max_price = books['price'].max()\n",
    "min_price = books['price'].min()\n",
    "mean_price = books['price'].mean()\n",
    "median_price = books['price'].median()\n",
    "\n",
    "max_price, min_price, mean_price, median_price"
   ]
  },
  {
   "cell_type": "markdown",
   "id": "595ba699-241f-454c-9873-8f9c72c16b0a",
   "metadata": {},
   "source": [
    "### Відповідь: Максимальна ціна?  \n",
    "*Максимальна ціна - 105.*"
   ]
  },
  {
   "cell_type": "markdown",
   "id": "abdbcfdf-6cc6-43c8-bcbe-d73373abdb98",
   "metadata": {},
   "source": [
    "### Відповідь: Мінімальна ціна?  \n",
    "*Мінімальна ціна - 0.*"
   ]
  },
  {
   "cell_type": "markdown",
   "id": "d7eeb968-1cf7-444d-8a17-7d64d1582951",
   "metadata": {},
   "source": [
    "### Відповідь: Середня ціна?  \n",
    "*Середня ціна - 13,1.*"
   ]
  },
  {
   "cell_type": "markdown",
   "id": "27c5e57f-cdb5-46f6-bf51-0087d78456ab",
   "metadata": {},
   "source": [
    "### Відповідь: Медіанна ціна?  \n",
    "*Медіанна ціна - 11.*"
   ]
  },
  {
   "cell_type": "markdown",
   "id": "616148ac-8542-45a4-8f4d-5b6231bc1985",
   "metadata": {},
   "source": [
    "# Пошук та сортування даних"
   ]
  },
  {
   "cell_type": "code",
   "execution_count": 12,
   "id": "56e2d4c5-6310-4536-8eae-63446e203167",
   "metadata": {},
   "outputs": [
    {
     "data": {
      "text/plain": [
       "np.float64(4.9)"
      ]
     },
     "execution_count": 12,
     "metadata": {},
     "output_type": "execute_result"
    }
   ],
   "source": [
    "highest_rating = books['user_rating'].max()\n",
    "highest_rating"
   ]
  },
  {
   "cell_type": "markdown",
   "id": "eae14a02-d0c7-4a1d-bdae-b9ef858d4a63",
   "metadata": {},
   "source": [
    "### Відповідь: Який рейтинг у датасеті найвищий?  \n",
    "*Найвищий рейтинг - 4,9.*"
   ]
  },
  {
   "cell_type": "code",
   "execution_count": 14,
   "id": "80b15425-7c20-41d8-b8a4-f41a467edc54",
   "metadata": {},
   "outputs": [
    {
     "data": {
      "text/plain": [
       "np.int64(52)"
      ]
     },
     "execution_count": 14,
     "metadata": {},
     "output_type": "execute_result"
    }
   ],
   "source": [
    "count_highest_rating = (books['user_rating'] == highest_rating).sum()\n",
    "count_highest_rating"
   ]
  },
  {
   "cell_type": "markdown",
   "id": "15599a99-9852-454d-9869-ad00df6884d5",
   "metadata": {},
   "source": [
    "### Відповідь: Скільки книг мають такий рейтинг?  \n",
    "*Кількість книг з таким рейтингом - 52*"
   ]
  },
  {
   "cell_type": "code",
   "execution_count": 17,
   "id": "17d0daef-046b-43c6-b25f-918117a2356b",
   "metadata": {},
   "outputs": [
    {
     "data": {
      "text/plain": [
       "'Where the Crawdads Sing'"
      ]
     },
     "execution_count": 17,
     "metadata": {},
     "output_type": "execute_result"
    }
   ],
   "source": [
    "highest_review = books['reviews'].idxmax()\n",
    "books.loc[highest_review]['name']"
   ]
  },
  {
   "cell_type": "markdown",
   "id": "82a6255b-3686-456f-a427-804957885798",
   "metadata": {},
   "source": [
    "### Відповідь: Яка книга має найбільше відгуків?  \n",
    "*Where the Crawdads Sing.*"
   ]
  },
  {
   "cell_type": "code",
   "execution_count": 35,
   "id": "235f38b3-865d-4277-99d4-eb2e4c9f6b10",
   "metadata": {},
   "outputs": [
    {
     "data": {
      "text/plain": [
       "('Publication Manual of the American Psychological Association, 6th Edition',\n",
       " np.int64(46))"
      ]
     },
     "execution_count": 35,
     "metadata": {},
     "output_type": "execute_result"
    }
   ],
   "source": [
    "top_50_2015 = books[(books['year'] == 2015) & (books['user_rating'].max() <= 50)]\n",
    "expensive_book = top_50_2015.loc[top_50_2015['price'].idxmax()]\n",
    "expensive_book['name'], expensive_book['price']"
   ]
  },
  {
   "cell_type": "markdown",
   "id": "145982fd-e2b1-45c6-8cf2-8f340d6a7fc9",
   "metadata": {},
   "source": [
    "### Відповідь: З тих книг, що потрапили до Топ-50 у 2015 році, яка книга найдорожча (можна використати проміжний датафрейм)?  \n",
    "*Найдорожча книга 'Publication Manual of the American Psychological Association, 6th Edition' з ціною 46*"
   ]
  },
  {
   "cell_type": "code",
   "execution_count": 41,
   "id": "95155b97-63ec-4ac9-93b2-45055561bc96",
   "metadata": {},
   "outputs": [
    {
     "data": {
      "text/plain": [
       "(20, 7)"
      ]
     },
     "execution_count": 41,
     "metadata": {},
     "output_type": "execute_result"
    }
   ],
   "source": [
    "fiction_top_50_2010 = books[(books[\"genre\"] == \"Fiction\") & (books['year'] == 2010) & (books['user_rating'].max() <= 50)]\n",
    "fiction_top_50_2010.shape"
   ]
  },
  {
   "cell_type": "markdown",
   "id": "38cc2064-bf16-4ac9-8008-e181aafef923",
   "metadata": {},
   "source": [
    "### Відповідь: Скільки книг жанру Fiction потрапили до Топ-50 у 2010 році (використовуйте &)?  \n",
    "*Потрапило 20 книг.*"
   ]
  },
  {
   "cell_type": "code",
   "execution_count": 48,
   "id": "e748c44a-8687-49d6-ba6f-cf5bbdd0b886",
   "metadata": {},
   "outputs": [
    {
     "data": {
      "text/plain": [
       "((1, 7),\n",
       " (1, 7),\n",
       " 187    Jesus Calling: Enjoying Peace in His Presence ...\n",
       " Name: name, dtype: object)"
      ]
     },
     "execution_count": 48,
     "metadata": {},
     "output_type": "execute_result"
    }
   ],
   "source": [
    "filtered_books_or = books[(books[\"user_rating\"] == 4.9) & ((books[\"year\"] == 2010) | (books[\"year\"] == 2011))]\n",
    "filtered_books_isin = books[(books[\"user_rating\"] == 4.9) & (books[\"year\"].isin([2010, 2011]))]\n",
    "filtered_books_or.shape, filtered_books_isin.shape, filtered_books_or['name']"
   ]
  },
  {
   "cell_type": "markdown",
   "id": "af14b2c6-af7d-4eda-a012-6c26ca069a11",
   "metadata": {},
   "source": [
    "### Відповідь: Скільки книг з рейтингом 4.9 потрапило до рейтингу у 2010 та 2011 роках (використовуйте | або функцію isin)?  \n",
    "*Одна книга 'Jesus Calling: Enjoying Peace in His Presence'.*"
   ]
  },
  {
   "cell_type": "markdown",
   "id": "fbecd7ab-529f-4a62-af11-8f7e7763b50d",
   "metadata": {},
   "source": [
    "## І насамкінець, давайте відсортуємо за зростанням ціни всі книги, які потрапили до рейтингу в 2015 році і коштують дешевше за 8 доларів (використовуйте функцію sort_values)."
   ]
  },
  {
   "cell_type": "code",
   "execution_count": 53,
   "id": "b3c79176-f962-4e88-8099-ac6e62049e9d",
   "metadata": {},
   "outputs": [
    {
     "data": {
      "text/plain": [
       "253    Old School (Diary of a Wimpy Kid #10)\n",
       "Name: name, dtype: object"
      ]
     },
     "execution_count": 53,
     "metadata": {},
     "output_type": "execute_result"
    }
   ],
   "source": [
    "filtered_books = books[(books[\"year\"] == 2015) & (books[\"price\"] < 8)]\n",
    "sorted_books = filtered_books.sort_values(by=\"price\")\n",
    "sorted_books.tail(1)['name']"
   ]
  },
  {
   "cell_type": "markdown",
   "id": "00cd40e7-3d21-44ba-843b-adf6d55598ea",
   "metadata": {},
   "source": [
    "### Відповідь: Яка книга остання у відсортованому списку?\n",
    "*Остання книга - Old School (Diary of a Wimpy Kid #10).*"
   ]
  },
  {
   "cell_type": "markdown",
   "id": "3af1cc8d-bfe4-4a07-93ba-5bf7d07b2a44",
   "metadata": {},
   "source": [
    "# Агрегування даних та з'єднання таблиць"
   ]
  },
  {
   "cell_type": "markdown",
   "id": "6a36ca89-08b5-4fca-a5cb-40e69215350a",
   "metadata": {},
   "source": [
    "## Для початку давайте подивимося на максимальну та мінімальну ціни для кожного з жанрів (використовуйте функції groupby та agg, для підрахунку мінімальних та максимальних значень використовуйте max та min). Не беріть усі стовпці, виберіть тільки потрібні вам"
   ]
  },
  {
   "cell_type": "code",
   "execution_count": 54,
   "id": "f3eab4db-662c-442a-99b1-305960566efa",
   "metadata": {},
   "outputs": [
    {
     "data": {
      "text/html": [
       "<div>\n",
       "<style scoped>\n",
       "    .dataframe tbody tr th:only-of-type {\n",
       "        vertical-align: middle;\n",
       "    }\n",
       "\n",
       "    .dataframe tbody tr th {\n",
       "        vertical-align: top;\n",
       "    }\n",
       "\n",
       "    .dataframe thead th {\n",
       "        text-align: right;\n",
       "    }\n",
       "</style>\n",
       "<table border=\"1\" class=\"dataframe\">\n",
       "  <thead>\n",
       "    <tr style=\"text-align: right;\">\n",
       "      <th></th>\n",
       "      <th>genre</th>\n",
       "      <th>min</th>\n",
       "      <th>max</th>\n",
       "    </tr>\n",
       "  </thead>\n",
       "  <tbody>\n",
       "    <tr>\n",
       "      <th>0</th>\n",
       "      <td>Fiction</td>\n",
       "      <td>0</td>\n",
       "      <td>82</td>\n",
       "    </tr>\n",
       "    <tr>\n",
       "      <th>1</th>\n",
       "      <td>Non Fiction</td>\n",
       "      <td>0</td>\n",
       "      <td>105</td>\n",
       "    </tr>\n",
       "  </tbody>\n",
       "</table>\n",
       "</div>"
      ],
      "text/plain": [
       "         genre  min  max\n",
       "0      Fiction    0   82\n",
       "1  Non Fiction    0  105"
      ]
     },
     "execution_count": 54,
     "metadata": {},
     "output_type": "execute_result"
    }
   ],
   "source": [
    "genre_price_stats = books.groupby(\"genre\")[\"price\"].agg([\"min\", \"max\"]).reset_index()\n",
    "genre_price_stats"
   ]
  },
  {
   "cell_type": "markdown",
   "id": "f76d67de-cadd-492b-ace8-2cafb7b836db",
   "metadata": {},
   "source": [
    "### Відповідь: Максимальна ціна для жанру Fiction  \n",
    "*82*  \n",
    "### Відповідь: Мінімальна ціна для жанру Fiction  \n",
    "*0*  \n",
    "### Відповідь: Максимальна ціна для жанру Non Fiction  \n",
    "*105*  \n",
    "### Відповідь: Мінімальна ціна для жанру Non Fiction  \n",
    "*0*"
   ]
  },
  {
   "cell_type": "markdown",
   "id": "77335653-de74-4b7d-81be-0e3e550128b0",
   "metadata": {},
   "source": [
    "## Тепер створіть новий датафрейм, який вміщатиме кількість книг для кожного з авторів (використовуйте функції groupby та agg, для підрахунку кількості використовуйте count). Не беріть усі стовпці, виберете тільки потрібні"
   ]
  },
  {
   "cell_type": "code",
   "execution_count": 62,
   "id": "487a428b-1662-4202-a6ee-aecacd509c9c",
   "metadata": {},
   "outputs": [
    {
     "data": {
      "text/plain": [
       "(                         author  count\n",
       " 0              Abraham Verghese      2\n",
       " 1                Adam Gasiewski      1\n",
       " 2                 Adam Mansbach      1\n",
       " 3                     Adir Levy      1\n",
       " 4    Admiral William H. McRaven      1\n",
       " ..                          ...    ...\n",
       " 243             Walter Isaacson      3\n",
       " 244               William Davis      2\n",
       " 245            William P. Young      2\n",
       " 246            Wizards RPG Team      3\n",
       " 247                Zhi Gang Sha      2\n",
       " \n",
       " [248 rows x 2 columns],\n",
       " author    Jeff Kinney\n",
       " count              12\n",
       " Name: 120, dtype: object)"
      ]
     },
     "execution_count": 62,
     "metadata": {},
     "output_type": "execute_result"
    }
   ],
   "source": [
    "author_book_count = books.groupby(\"author\")[\"name\"].agg(count=\"count\").reset_index()\n",
    "author = author_book_count.loc[author_book_count['count'].idxmax()]\n",
    "author_book_count, author"
   ]
  },
  {
   "cell_type": "markdown",
   "id": "0d31814f-85fc-4628-bb72-f4115066153e",
   "metadata": {},
   "source": [
    "### Відповідь: Якої розмірності вийшла таблиця?  \n",
    "*248 рядки та 2 стовпця.*  \n",
    "### Відповідь: Який автор має найбільше книг?  \n",
    "*Jeff Kinney.*  \n",
    "### Відповідь: Скільки книг цього автора?  \n",
    "*12 книг.*"
   ]
  },
  {
   "cell_type": "markdown",
   "id": "22e93f44-d11f-49c5-8ee8-5aecd9d84cb1",
   "metadata": {},
   "source": [
    "## Тепер створіть другий датафрейм, який буде вміщати середній рейтинг для кожного автора (використовуйте функції groupby та agg, для підрахунку середнього значення використовуйте mean). Не беріть усі стовпці, виберете тільки потрібні"
   ]
  },
  {
   "cell_type": "code",
   "execution_count": 72,
   "id": "151f9f35-3b51-41e2-800e-e1e72a55be05",
   "metadata": {},
   "outputs": [
    {
     "data": {
      "text/plain": [
       "(                         author  mean_rating\n",
       " 0              Abraham Verghese     4.600000\n",
       " 1                Adam Gasiewski     4.400000\n",
       " 2                 Adam Mansbach     4.800000\n",
       " 3                     Adir Levy     4.800000\n",
       " 4    Admiral William H. McRaven     4.700000\n",
       " ..                          ...          ...\n",
       " 243             Walter Isaacson     4.566667\n",
       " 244               William Davis     4.400000\n",
       " 245            William P. Young     4.600000\n",
       " 246            Wizards RPG Team     4.800000\n",
       " 247                Zhi Gang Sha     4.600000\n",
       " \n",
       " [248 rows x 2 columns],\n",
       " author         Donna Tartt\n",
       " mean_rating            3.9\n",
       " Name: 71, dtype: object)"
      ]
     },
     "execution_count": 72,
     "metadata": {},
     "output_type": "execute_result"
    }
   ],
   "source": [
    "author_avg_rating = books.groupby(\"author\")[\"user_rating\"].agg(mean_rating=\"mean\").reset_index()\n",
    "author = author_avg_rating.loc[author_avg_rating['mean_rating'].idxmin()]\n",
    "author_avg_rating, author"
   ]
  },
  {
   "cell_type": "markdown",
   "id": "3cc5a9eb-1d64-4cd7-852d-92a84695f33f",
   "metadata": {},
   "source": [
    "### Відповідь: У якого автора середній рейтинг мінімальний?  \n",
    "*Donna Tartt.*  \n",
    "### Відповідь: Який у цього автора середній рейтинг?  \n",
    "*3.9.*"
   ]
  },
  {
   "cell_type": "markdown",
   "id": "62a30697-51c0-40a5-978a-ab45a113f67a",
   "metadata": {},
   "source": [
    "## З'єднайте останні два датафрейми так, щоб для кожного автора було видно кількість книг та середній рейтинг (Використовуйте функцію concat з параметром axis=1). Збережіть результат у змінну"
   ]
  },
  {
   "cell_type": "code",
   "execution_count": 75,
   "id": "c78c4e13-72dc-4392-bcf3-9678d528c530",
   "metadata": {},
   "outputs": [
    {
     "data": {
      "text/html": [
       "<div>\n",
       "<style scoped>\n",
       "    .dataframe tbody tr th:only-of-type {\n",
       "        vertical-align: middle;\n",
       "    }\n",
       "\n",
       "    .dataframe tbody tr th {\n",
       "        vertical-align: top;\n",
       "    }\n",
       "\n",
       "    .dataframe thead th {\n",
       "        text-align: right;\n",
       "    }\n",
       "</style>\n",
       "<table border=\"1\" class=\"dataframe\">\n",
       "  <thead>\n",
       "    <tr style=\"text-align: right;\">\n",
       "      <th></th>\n",
       "      <th>count</th>\n",
       "      <th>mean_rating</th>\n",
       "    </tr>\n",
       "    <tr>\n",
       "      <th>author</th>\n",
       "      <th></th>\n",
       "      <th></th>\n",
       "    </tr>\n",
       "  </thead>\n",
       "  <tbody>\n",
       "    <tr>\n",
       "      <th>Abraham Verghese</th>\n",
       "      <td>2</td>\n",
       "      <td>4.600000</td>\n",
       "    </tr>\n",
       "    <tr>\n",
       "      <th>Adam Gasiewski</th>\n",
       "      <td>1</td>\n",
       "      <td>4.400000</td>\n",
       "    </tr>\n",
       "    <tr>\n",
       "      <th>Adam Mansbach</th>\n",
       "      <td>1</td>\n",
       "      <td>4.800000</td>\n",
       "    </tr>\n",
       "    <tr>\n",
       "      <th>Adir Levy</th>\n",
       "      <td>1</td>\n",
       "      <td>4.800000</td>\n",
       "    </tr>\n",
       "    <tr>\n",
       "      <th>Admiral William H. McRaven</th>\n",
       "      <td>1</td>\n",
       "      <td>4.700000</td>\n",
       "    </tr>\n",
       "    <tr>\n",
       "      <th>...</th>\n",
       "      <td>...</td>\n",
       "      <td>...</td>\n",
       "    </tr>\n",
       "    <tr>\n",
       "      <th>Walter Isaacson</th>\n",
       "      <td>3</td>\n",
       "      <td>4.566667</td>\n",
       "    </tr>\n",
       "    <tr>\n",
       "      <th>William Davis</th>\n",
       "      <td>2</td>\n",
       "      <td>4.400000</td>\n",
       "    </tr>\n",
       "    <tr>\n",
       "      <th>William P. Young</th>\n",
       "      <td>2</td>\n",
       "      <td>4.600000</td>\n",
       "    </tr>\n",
       "    <tr>\n",
       "      <th>Wizards RPG Team</th>\n",
       "      <td>3</td>\n",
       "      <td>4.800000</td>\n",
       "    </tr>\n",
       "    <tr>\n",
       "      <th>Zhi Gang Sha</th>\n",
       "      <td>2</td>\n",
       "      <td>4.600000</td>\n",
       "    </tr>\n",
       "  </tbody>\n",
       "</table>\n",
       "<p>248 rows × 2 columns</p>\n",
       "</div>"
      ],
      "text/plain": [
       "                            count  mean_rating\n",
       "author                                        \n",
       "Abraham Verghese                2     4.600000\n",
       "Adam Gasiewski                  1     4.400000\n",
       "Adam Mansbach                   1     4.800000\n",
       "Adir Levy                       1     4.800000\n",
       "Admiral William H. McRaven      1     4.700000\n",
       "...                           ...          ...\n",
       "Walter Isaacson                 3     4.566667\n",
       "William Davis                   2     4.400000\n",
       "William P. Young                2     4.600000\n",
       "Wizards RPG Team                3     4.800000\n",
       "Zhi Gang Sha                    2     4.600000\n",
       "\n",
       "[248 rows x 2 columns]"
      ]
     },
     "execution_count": 75,
     "metadata": {},
     "output_type": "execute_result"
    }
   ],
   "source": [
    "combined_df = pd.concat([author_book_count.set_index('author'), author_avg_rating.set_index('author')], axis=1)\n",
    "combined_df"
   ]
  },
  {
   "cell_type": "markdown",
   "id": "46f1b92f-7551-4ab1-9d4b-33cb475e69f7",
   "metadata": {},
   "source": [
    "## Відсортуйте датафрейм за зростаючою кількістю книг та зростаючим рейтингом (використовуйте функцію sort_values)"
   ]
  },
  {
   "cell_type": "code",
   "execution_count": 76,
   "id": "146a2754-d16a-40a9-96a9-c0ed3d29004b",
   "metadata": {},
   "outputs": [
    {
     "data": {
      "text/html": [
       "<div>\n",
       "<style scoped>\n",
       "    .dataframe tbody tr th:only-of-type {\n",
       "        vertical-align: middle;\n",
       "    }\n",
       "\n",
       "    .dataframe tbody tr th {\n",
       "        vertical-align: top;\n",
       "    }\n",
       "\n",
       "    .dataframe thead th {\n",
       "        text-align: right;\n",
       "    }\n",
       "</style>\n",
       "<table border=\"1\" class=\"dataframe\">\n",
       "  <thead>\n",
       "    <tr style=\"text-align: right;\">\n",
       "      <th></th>\n",
       "      <th>count</th>\n",
       "      <th>mean_rating</th>\n",
       "    </tr>\n",
       "    <tr>\n",
       "      <th>author</th>\n",
       "      <th></th>\n",
       "      <th></th>\n",
       "    </tr>\n",
       "  </thead>\n",
       "  <tbody>\n",
       "    <tr>\n",
       "      <th>Muriel Barbery</th>\n",
       "      <td>1</td>\n",
       "      <td>4.000000</td>\n",
       "    </tr>\n",
       "    <tr>\n",
       "      <th>Chris Cleave</th>\n",
       "      <td>1</td>\n",
       "      <td>4.100000</td>\n",
       "    </tr>\n",
       "    <tr>\n",
       "      <th>Ian K. Smith M.D.</th>\n",
       "      <td>1</td>\n",
       "      <td>4.100000</td>\n",
       "    </tr>\n",
       "    <tr>\n",
       "      <th>Pierre Dukan</th>\n",
       "      <td>1</td>\n",
       "      <td>4.100000</td>\n",
       "    </tr>\n",
       "    <tr>\n",
       "      <th>Elizabeth Strout</th>\n",
       "      <td>1</td>\n",
       "      <td>4.200000</td>\n",
       "    </tr>\n",
       "    <tr>\n",
       "      <th>...</th>\n",
       "      <td>...</td>\n",
       "      <td>...</td>\n",
       "    </tr>\n",
       "    <tr>\n",
       "      <th>American Psychological Association</th>\n",
       "      <td>10</td>\n",
       "      <td>4.500000</td>\n",
       "    </tr>\n",
       "    <tr>\n",
       "      <th>Suzanne Collins</th>\n",
       "      <td>11</td>\n",
       "      <td>4.663636</td>\n",
       "    </tr>\n",
       "    <tr>\n",
       "      <th>Gary Chapman</th>\n",
       "      <td>11</td>\n",
       "      <td>4.736364</td>\n",
       "    </tr>\n",
       "    <tr>\n",
       "      <th>Rick Riordan</th>\n",
       "      <td>11</td>\n",
       "      <td>4.772727</td>\n",
       "    </tr>\n",
       "    <tr>\n",
       "      <th>Jeff Kinney</th>\n",
       "      <td>12</td>\n",
       "      <td>4.800000</td>\n",
       "    </tr>\n",
       "  </tbody>\n",
       "</table>\n",
       "<p>248 rows × 2 columns</p>\n",
       "</div>"
      ],
      "text/plain": [
       "                                    count  mean_rating\n",
       "author                                                \n",
       "Muriel Barbery                          1     4.000000\n",
       "Chris Cleave                            1     4.100000\n",
       "Ian K. Smith M.D.                       1     4.100000\n",
       "Pierre Dukan                            1     4.100000\n",
       "Elizabeth Strout                        1     4.200000\n",
       "...                                   ...          ...\n",
       "American Psychological Association     10     4.500000\n",
       "Suzanne Collins                        11     4.663636\n",
       "Gary Chapman                           11     4.736364\n",
       "Rick Riordan                           11     4.772727\n",
       "Jeff Kinney                            12     4.800000\n",
       "\n",
       "[248 rows x 2 columns]"
      ]
     },
     "execution_count": 76,
     "metadata": {},
     "output_type": "execute_result"
    }
   ],
   "source": [
    "combined_df.sort_values(by=[\"count\", \"mean_rating\"])"
   ]
  },
  {
   "cell_type": "markdown",
   "id": "52a8b885-89eb-466e-b94f-b6c0f31dc098",
   "metadata": {},
   "source": [
    "### Відповідь: Який автор перший у списку?  \n",
    "*Muriel Barbery.*"
   ]
  }
 ],
 "metadata": {
  "kernelspec": {
   "display_name": "Python 3 (ipykernel)",
   "language": "python",
   "name": "python3"
  },
  "language_info": {
   "codemirror_mode": {
    "name": "ipython",
    "version": 3
   },
   "file_extension": ".py",
   "mimetype": "text/x-python",
   "name": "python",
   "nbconvert_exporter": "python",
   "pygments_lexer": "ipython3",
   "version": "3.12.4"
  }
 },
 "nbformat": 4,
 "nbformat_minor": 5
}
