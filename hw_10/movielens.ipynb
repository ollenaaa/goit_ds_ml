{
 "cells": [
  {
   "cell_type": "markdown",
   "id": "46dfe5e6-a442-4885-bd51-8403616b5899",
   "metadata": {},
   "source": [
    "# Завдання\n",
    "\n",
    "На цьому тижні ми вивчили як працюють рекомендаційні системи. Пропонуємо вам познайомитись з бібліотекою surprise, котра якраз є по суті додатком до знайомої нам бібліотеки scikit-learn для тренування моделей рекомендаційних систем.\n",
    "\n",
    "Візьміть датасет movielens і побудуйте модель матричної факторизації. У даній бібліотеці він має назву SVD. Підберіть найкращі параметри за допомогою крос-валідації, також поекспериментуйте з іншими алгоритмами розрахунків (SVD++, NMF) і оберіть той, який буде оптимальним.\n",
    "\n",
    "Підказки як саме побудувати дану модель ви знайдете в документації до даної бібліотеки."
   ]
  },
  {
   "cell_type": "code",
   "execution_count": 12,
   "id": "9f14e110-4048-421a-b768-7b6129bf16b5",
   "metadata": {},
   "outputs": [],
   "source": [
    "import pandas as pd\n",
    "\n",
    "from surprise import Dataset, accuracy\n",
    "from surprise.model_selection import train_test_split, cross_validate, GridSearchCV\n",
    "from surprise import SVD, SVDpp, NMF"
   ]
  },
  {
   "cell_type": "code",
   "execution_count": 19,
   "id": "b796ca79-50cb-46f1-bdc2-6491088ea70c",
   "metadata": {},
   "outputs": [],
   "source": [
    "data = Dataset.load_builtin('ml-100k')"
   ]
  },
  {
   "cell_type": "code",
   "execution_count": 3,
   "id": "f10be160-5537-45ea-b52b-13bec64b0f89",
   "metadata": {},
   "outputs": [
    {
     "data": {
      "text/html": [
       "<div>\n",
       "<style scoped>\n",
       "    .dataframe tbody tr th:only-of-type {\n",
       "        vertical-align: middle;\n",
       "    }\n",
       "\n",
       "    .dataframe tbody tr th {\n",
       "        vertical-align: top;\n",
       "    }\n",
       "\n",
       "    .dataframe thead th {\n",
       "        text-align: right;\n",
       "    }\n",
       "</style>\n",
       "<table border=\"1\" class=\"dataframe\">\n",
       "  <thead>\n",
       "    <tr style=\"text-align: right;\">\n",
       "      <th></th>\n",
       "      <th>user_id</th>\n",
       "      <th>item_id</th>\n",
       "      <th>rating</th>\n",
       "      <th>unix_timestamp</th>\n",
       "    </tr>\n",
       "  </thead>\n",
       "  <tbody>\n",
       "    <tr>\n",
       "      <th>0</th>\n",
       "      <td>196</td>\n",
       "      <td>242</td>\n",
       "      <td>3.0</td>\n",
       "      <td>881250949</td>\n",
       "    </tr>\n",
       "    <tr>\n",
       "      <th>1</th>\n",
       "      <td>186</td>\n",
       "      <td>302</td>\n",
       "      <td>3.0</td>\n",
       "      <td>891717742</td>\n",
       "    </tr>\n",
       "    <tr>\n",
       "      <th>2</th>\n",
       "      <td>22</td>\n",
       "      <td>377</td>\n",
       "      <td>1.0</td>\n",
       "      <td>878887116</td>\n",
       "    </tr>\n",
       "    <tr>\n",
       "      <th>3</th>\n",
       "      <td>244</td>\n",
       "      <td>51</td>\n",
       "      <td>2.0</td>\n",
       "      <td>880606923</td>\n",
       "    </tr>\n",
       "    <tr>\n",
       "      <th>4</th>\n",
       "      <td>166</td>\n",
       "      <td>346</td>\n",
       "      <td>1.0</td>\n",
       "      <td>886397596</td>\n",
       "    </tr>\n",
       "  </tbody>\n",
       "</table>\n",
       "</div>"
      ],
      "text/plain": [
       "  user_id item_id  rating unix_timestamp\n",
       "0     196     242     3.0      881250949\n",
       "1     186     302     3.0      891717742\n",
       "2      22     377     1.0      878887116\n",
       "3     244      51     2.0      880606923\n",
       "4     166     346     1.0      886397596"
      ]
     },
     "execution_count": 3,
     "metadata": {},
     "output_type": "execute_result"
    }
   ],
   "source": [
    "df = pd.DataFrame(data.raw_ratings, columns=[\"user_id\", \"item_id\", \"rating\", \"unix_timestamp\"])\n",
    "df.head()"
   ]
  },
  {
   "cell_type": "code",
   "execution_count": null,
   "id": "052dd100-c58e-4ace-8e34-e6ce46ab79f5",
   "metadata": {},
   "outputs": [],
   "source": [
    "trainset, testset = train_test_split(data, test_size=0.2, random_state=42)"
   ]
  },
  {
   "cell_type": "markdown",
   "id": "a1dcbb38-2b09-42e2-8de1-545adc54c1e8",
   "metadata": {},
   "source": [
    "## SVD"
   ]
  },
  {
   "cell_type": "code",
   "execution_count": 4,
   "id": "cf3f61ad-93e9-41ef-8f9a-2284c1487090",
   "metadata": {},
   "outputs": [
    {
     "name": "stdout",
     "output_type": "stream",
     "text": [
      "Evaluating RMSE, MAE of algorithm SVD on 5 split(s).\n",
      "\n",
      "                  Fold 1  Fold 2  Fold 3  Fold 4  Fold 5  Mean    Std     \n",
      "RMSE (testset)    0.9349  0.9409  0.9385  0.9396  0.9290  0.9366  0.0043  \n",
      "MAE (testset)     0.7344  0.7449  0.7406  0.7390  0.7313  0.7380  0.0047  \n",
      "Fit time          0.96    0.98    0.93    0.91    0.92    0.94    0.03    \n",
      "Test time         0.13    0.16    0.10    0.14    0.09    0.12    0.03    \n"
     ]
    },
    {
     "data": {
      "text/plain": [
       "{'test_rmse': array([0.93488894, 0.94090194, 0.93846925, 0.93964929, 0.92895996]),\n",
       " 'test_mae': array([0.73440328, 0.74485409, 0.74063141, 0.73901543, 0.73130792]),\n",
       " 'fit_time': (0.9645340442657471,\n",
       "  0.9753601551055908,\n",
       "  0.9283120632171631,\n",
       "  0.913409948348999,\n",
       "  0.9159839153289795),\n",
       " 'test_time': (0.12502026557922363,\n",
       "  0.16096782684326172,\n",
       "  0.0953817367553711,\n",
       "  0.14435291290283203,\n",
       "  0.0947868824005127)}"
      ]
     },
     "execution_count": 4,
     "metadata": {},
     "output_type": "execute_result"
    }
   ],
   "source": [
    "svd_model = SVD()\n",
    "cross_validate(svd_model, data, measures=['rmse', 'mae'], cv=5, verbose=True)"
   ]
  },
  {
   "cell_type": "code",
   "execution_count": 14,
   "id": "c5fc6178-7d78-4541-bfbb-36da7f044ef5",
   "metadata": {},
   "outputs": [
    {
     "name": "stdout",
     "output_type": "stream",
     "text": [
      "Best SVD Params: {'n_factors': 150, 'n_epochs': 30, 'lr_all': 0.01, 'reg_all': 0.1}\n",
      "Best SVD RMSE: 0.9204983304335665\n",
      "MAE:  0.7214\n",
      "RMSE: 0.9123\n",
      "MAE on test set: 0.721359620593183\n",
      "RMSE on test set: 0.9122835302677863\n"
     ]
    }
   ],
   "source": [
    "param_grid = {'n_factors': [50, 100, 150], 'n_epochs': [20, 30], 'lr_all': [0.005, 0.01], 'reg_all': [0.02, 0.1]}\n",
    "\n",
    "grid_search_svd = GridSearchCV(SVD, param_grid, measures=['rmse', 'mae'], cv=3)\n",
    "grid_search_svd.fit(data)\n",
    "\n",
    "print(\"Best SVD Params:\", grid_search_svd.best_params['rmse'])\n",
    "print(\"Best SVD RMSE:\", grid_search_svd.best_score['rmse'])\n",
    "\n",
    "best_svd = grid_search_svd.best_estimator['rmse']\n",
    "\n",
    "best_svd.fit(trainset)\n",
    "\n",
    "predictions = best_svd.test(testset)\n",
    "\n",
    "mae = accuracy.mae(predictions)\n",
    "rmse_svd = accuracy.rmse(predictions)\n",
    "\n",
    "print(f'MAE on test set: {mae}')\n",
    "print(f'RMSE on test set: {rmse_svd}')"
   ]
  },
  {
   "cell_type": "markdown",
   "id": "2ed30e18-1a02-4721-a78f-0772b30f12d8",
   "metadata": {},
   "source": [
    "## SVD++"
   ]
  },
  {
   "cell_type": "code",
   "execution_count": 15,
   "id": "8aa25797-e561-4ef9-a237-b96998c6de56",
   "metadata": {},
   "outputs": [
    {
     "name": "stdout",
     "output_type": "stream",
     "text": [
      "Evaluating RMSE, MAE of algorithm SVDpp on 3 split(s).\n",
      "\n",
      "                  Fold 1  Fold 2  Fold 3  Mean    Std     \n",
      "RMSE (testset)    0.9256  0.9310  0.9258  0.9275  0.0025  \n",
      "MAE (testset)     0.7287  0.7311  0.7260  0.7286  0.0021  \n",
      "Fit time          10.01   10.81   10.30   10.37   0.33    \n",
      "Test time         5.64    5.36    5.54    5.51    0.11    \n"
     ]
    },
    {
     "data": {
      "text/plain": [
       "{'test_rmse': array([0.92558215, 0.93102376, 0.92575076]),\n",
       " 'test_mae': array([0.7287121 , 0.73111596, 0.72604126]),\n",
       " 'fit_time': (10.014595031738281, 10.809375047683716, 10.295012712478638),\n",
       " 'test_time': (5.635013818740845, 5.363752126693726, 5.537310838699341)}"
      ]
     },
     "execution_count": 15,
     "metadata": {},
     "output_type": "execute_result"
    }
   ],
   "source": [
    "svdpp_model = SVDpp()\n",
    "cross_validate(svdpp_model, data, measures=['rmse', 'mae'], cv=3, verbose=True)"
   ]
  },
  {
   "cell_type": "code",
   "execution_count": 17,
   "id": "d32b737c-38f9-4559-b936-1ef66ec0c077",
   "metadata": {},
   "outputs": [
    {
     "name": "stdout",
     "output_type": "stream",
     "text": [
      "Best SVD Params: {'n_factors': 100, 'n_epochs': 30, 'lr_all': 0.01, 'reg_all': 0.1}\n",
      "Best SVD RMSE: 0.9169555129557528\n",
      "MAE:  0.7191\n",
      "RMSE: 0.9105\n",
      "MAE on test set: 0.7191146246126449\n",
      "RMSE on test set: 0.9105410518903249\n"
     ]
    }
   ],
   "source": [
    "grid_search_svdpp = GridSearchCV(SVDpp, param_grid, measures=['rmse', 'mae'], cv=3)\n",
    "grid_search_svdpp.fit(data)\n",
    "\n",
    "print(\"Best SVD Params:\", grid_search_svdpp.best_params['rmse'])\n",
    "print(\"Best SVD RMSE:\", grid_search_svdpp.best_score['rmse'])\n",
    "\n",
    "best_svdpp = grid_search_svdpp.best_estimator['rmse']\n",
    "\n",
    "best_svdpp.fit(trainset)\n",
    "\n",
    "predictions_svdpp = best_svdpp.test(testset)\n",
    "\n",
    "mae_svdpp = accuracy.mae(predictions_svdpp)\n",
    "rmse_svdpp = accuracy.rmse(predictions_svdpp)\n",
    "\n",
    "print(f'MAE on test set: {mae_svdpp}')\n",
    "print(f'RMSE on test set: {rmse_svdpp}')"
   ]
  },
  {
   "cell_type": "markdown",
   "id": "670cca8a-7a5f-45bb-a550-f10270dd6d50",
   "metadata": {},
   "source": [
    "## NMF"
   ]
  },
  {
   "cell_type": "code",
   "execution_count": 16,
   "id": "a05773ad-874f-4cb9-b3da-74bef8873f71",
   "metadata": {},
   "outputs": [
    {
     "name": "stdout",
     "output_type": "stream",
     "text": [
      "Evaluating RMSE, MAE of algorithm NMF on 3 split(s).\n",
      "\n",
      "                  Fold 1  Fold 2  Fold 3  Mean    Std     \n",
      "RMSE (testset)    0.9705  0.9785  0.9793  0.9761  0.0040  \n",
      "MAE (testset)     0.7619  0.7696  0.7688  0.7668  0.0035  \n",
      "Fit time          1.38    1.46    1.42    1.42    0.03    \n",
      "Test time         0.22    0.21    0.13    0.19    0.04    \n"
     ]
    },
    {
     "data": {
      "text/plain": [
       "{'test_rmse': array([0.97045212, 0.97850113, 0.97929391]),\n",
       " 'test_mae': array([0.76188914, 0.76963922, 0.76876046]),\n",
       " 'fit_time': (1.383734941482544, 1.4567558765411377, 1.424785852432251),\n",
       " 'test_time': (0.22281122207641602, 0.21476316452026367, 0.13267111778259277)}"
      ]
     },
     "execution_count": 16,
     "metadata": {},
     "output_type": "execute_result"
    }
   ],
   "source": [
    "nmf_model = NMF()\n",
    "cross_validate(nmf_model, data, measures=['rmse', 'mae'], cv=3, verbose=True)"
   ]
  },
  {
   "cell_type": "code",
   "execution_count": 23,
   "id": "7ae851cb-6a51-4320-9ab2-989b89ec2457",
   "metadata": {},
   "outputs": [
    {
     "name": "stdout",
     "output_type": "stream",
     "text": [
      "Best NMF Params: {'n_factors': 50, 'n_epochs': 30, 'reg_pu': 0.1, 'reg_qi': 0.1}\n",
      "Best NMF RMSE: 1.0318621937786012\n",
      "MAE:  0.7869\n",
      "RMSE: 1.0315\n",
      "MAE on test set: 0.7868967068834198\n",
      "RMSE on test set: 1.0314524259007571\n"
     ]
    }
   ],
   "source": [
    "param_grid_nmf = {\n",
    "    'n_factors': [50, 100, 150],\n",
    "    'n_epochs': [20, 30],\n",
    "    'reg_pu': [0.06, 0.1],\n",
    "    'reg_qi': [0.06, 0.1]\n",
    "}\n",
    "\n",
    "grid_search_nmf = GridSearchCV(NMF, param_grid_nmf, measures=['rmse', 'mae'], cv=3)\n",
    "grid_search_nmf.fit(data)\n",
    "\n",
    "print(\"Best NMF Params:\", grid_search_nmf.best_params['rmse'])\n",
    "print(\"Best NMF RMSE:\", grid_search_nmf.best_score['rmse'])\n",
    "\n",
    "best_nmf = grid_search_nmf.best_estimator['rmse']\n",
    "\n",
    "best_nmf.fit(trainset)\n",
    "\n",
    "predictions_nmf = best_nmf.test(testset)\n",
    "\n",
    "mae_nmf = accuracy.mae(predictions_nmf)\n",
    "rmse_nmf = accuracy.rmse(predictions_nmf)\n",
    "\n",
    "print(f'MAE on test set: {mae_nmf}')\n",
    "print(f'RMSE on test set: {rmse_nmf}')"
   ]
  },
  {
   "cell_type": "code",
   "execution_count": 24,
   "id": "7178de2a-d44f-4dd0-9b18-fcb25fa89a8b",
   "metadata": {},
   "outputs": [
    {
     "data": {
      "image/png": "[encoded data removed]",
      "text/plain": [
       "<Figure size 640x480 with 1 Axes>"
      ]
     },
     "metadata": {},
     "output_type": "display_data"
    }
   ],
   "source": [
    "import matplotlib.pyplot as plt\n",
    "\n",
    "models = ['SVD', 'SVD++', 'NMF']\n",
    "rmse_scores = [grid_search_svd.best_score['rmse'],\n",
    "               grid_search_svdpp.best_score['rmse'],\n",
    "               grid_search_nmf.best_score['rmse']]\n",
    "\n",
    "plt.bar(models, rmse_scores, color=['blue', 'orange', 'green'])\n",
    "plt.ylabel('RMSE')\n",
    "plt.title('RMSE Comparison of Models')\n",
    "plt.show()\n"
   ]
  }
 ],
 "metadata": {
  "kernelspec": {
   "display_name": "Python 3 (ipykernel)",
   "language": "python",
   "name": "python3"
  },
  "language_info": {
   "codemirror_mode": {
    "name": "ipython",
    "version": 3
   },
   "file_extension": ".py",
   "mimetype": "text/x-python",
   "name": "python",
   "nbconvert_exporter": "python",
   "pygments_lexer": "ipython3",
   "version": "3.12.4"
  }
 },
 "nbformat": 4,
 "nbformat_minor": 5
}
