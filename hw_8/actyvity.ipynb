{
 "cells": [
  {
   "cell_type": "code",
   "execution_count": 8,
   "id": "fa929bad-0e50-4974-9563-64b469a13291",
   "metadata": {
    "scrolled": true
   },
   "outputs": [
    {
     "data": {
      "text/html": [
       "<div>\n",
       "<style scoped>\n",
       "    .dataframe tbody tr th:only-of-type {\n",
       "        vertical-align: middle;\n",
       "    }\n",
       "\n",
       "    .dataframe tbody tr th {\n",
       "        vertical-align: top;\n",
       "    }\n",
       "\n",
       "    .dataframe thead th {\n",
       "        text-align: right;\n",
       "    }\n",
       "</style>\n",
       "<table border=\"1\" class=\"dataframe\">\n",
       "  <thead>\n",
       "    <tr style=\"text-align: right;\">\n",
       "      <th></th>\n",
       "      <th>activity</th>\n",
       "      <th>x</th>\n",
       "      <th>y</th>\n",
       "      <th>z</th>\n",
       "    </tr>\n",
       "  </thead>\n",
       "  <tbody>\n",
       "    <tr>\n",
       "      <th>0</th>\n",
       "      <td>running</td>\n",
       "      <td>1.757344</td>\n",
       "      <td>-5.875371</td>\n",
       "      <td>-3.878607</td>\n",
       "    </tr>\n",
       "    <tr>\n",
       "      <th>1</th>\n",
       "      <td>running</td>\n",
       "      <td>2.461239</td>\n",
       "      <td>12.986150</td>\n",
       "      <td>1.762132</td>\n",
       "    </tr>\n",
       "    <tr>\n",
       "      <th>2</th>\n",
       "      <td>running</td>\n",
       "      <td>22.682667</td>\n",
       "      <td>22.922087</td>\n",
       "      <td>-1.738190</td>\n",
       "    </tr>\n",
       "    <tr>\n",
       "      <th>3</th>\n",
       "      <td>running</td>\n",
       "      <td>11.875240</td>\n",
       "      <td>4.611233</td>\n",
       "      <td>-8.389283</td>\n",
       "    </tr>\n",
       "    <tr>\n",
       "      <th>4</th>\n",
       "      <td>running</td>\n",
       "      <td>-5.295974</td>\n",
       "      <td>4.783615</td>\n",
       "      <td>-1.273715</td>\n",
       "    </tr>\n",
       "  </tbody>\n",
       "</table>\n",
       "</div>"
      ],
      "text/plain": [
       "  activity          x          y         z\n",
       "0  running   1.757344  -5.875371 -3.878607\n",
       "1  running   2.461239  12.986150  1.762132\n",
       "2  running  22.682667  22.922087 -1.738190\n",
       "3  running  11.875240   4.611233 -8.389283\n",
       "4  running  -5.295974   4.783615 -1.273715"
      ]
     },
     "execution_count": 8,
     "metadata": {},
     "output_type": "execute_result"
    }
   ],
   "source": [
    "from pathlib import Path\n",
    "import pandas as pd\n",
    "\n",
    "csv_data_path  = Path(\"data\")\n",
    "class_path = list(csv_data_path.iterdir())\n",
    "class_list = [d.name for d in class_path if d.name != '.DS_Store']\n",
    "coordinate = ['x', 'y', 'z']\n",
    "\n",
    "new_rows = []\n",
    "\n",
    "for c in class_list:\n",
    "    files_path = csv_data_path / c\n",
    "    if files_path.is_dir():\n",
    "        for file in files_path.iterdir():\n",
    "            if file.is_file():\n",
    "                try:\n",
    "                    data = pd.read_csv(file)\n",
    "                    \n",
    "                    for index, row in data.iterrows():\n",
    "                        new_rows.append({\n",
    "                            'activity': c,\n",
    "                            'x': row['accelerometer_X'],\n",
    "                            'y': row['accelerometer_Y'],\n",
    "                            'z': row['accelerometer_Z']\n",
    "                        })\n",
    "                        \n",
    "                except Exception as e:\n",
    "                    print(f\"Помилка під час читання файлу {c}: {e}\")\n",
    "\n",
    "df = pd.DataFrame(new_rows)\n",
    "df.to_csv(\"combined_data.csv\", index=False)\n",
    "df.head()"
   ]
  },
  {
   "cell_type": "code",
   "execution_count": 2,
   "id": "d63f27b7-b8d8-40d8-ba73-f0ff25fb757f",
   "metadata": {},
   "outputs": [
    {
     "data": {
      "text/plain": [
       "activity    0\n",
       "x           0\n",
       "y           0\n",
       "z           0\n",
       "dtype: int64"
      ]
     },
     "execution_count": 2,
     "metadata": {},
     "output_type": "execute_result"
    }
   ],
   "source": [
    "df.isna().sum()"
   ]
  },
  {
   "cell_type": "code",
   "execution_count": 3,
   "id": "893b2c63-0eb8-44a6-a58d-650280d45cd3",
   "metadata": {},
   "outputs": [
    {
     "data": {
      "text/plain": [
       "(193860, 4)"
      ]
     },
     "execution_count": 3,
     "metadata": {},
     "output_type": "execute_result"
    }
   ],
   "source": [
    "size = df.shape\n",
    "size"
   ]
  },
  {
   "cell_type": "markdown",
   "id": "fa0f202f-d8c4-43b3-ab01-fb86492b3d5c",
   "metadata": {},
   "source": [
    "## time domain features"
   ]
  },
  {
   "cell_type": "code",
   "execution_count": 4,
   "id": "ee360922-a3f2-44f6-9383-3d385601281c",
   "metadata": {},
   "outputs": [],
   "source": [
    "import numpy as np\n",
    "\n",
    "def time_domain_features(data, col):\n",
    "    features = {}\n",
    "    \n",
    "    features[f'{col}_mean'] = data[col].mean()    \n",
    "    features[f'{col}_std'] = data[col].std()\n",
    "    features[f'{col}_min'] = data[col].min()\n",
    "    features[f'{col}_max'] = data[col].max()\n",
    "    features[f'{col}_range'] = data[col].median\n",
    "    features[f'{col}_rmse'] = np.sqrt(np.mean(data[col] ** 2))\n",
    "    features[f'{col}_ir'] = np.percentile(data[col], 75) - np.percentile(data[col], 25)\n",
    "    features[f'{col}_range'] = np.max(data[col]) - np.min(data[col])\n",
    "\n",
    "    return features"
   ]
  },
  {
   "cell_type": "code",
   "execution_count": 5,
   "id": "26fe25ce-5cea-4c13-a46e-b2417103cfb2",
   "metadata": {},
   "outputs": [
    {
     "data": {
      "text/html": [
       "<div>\n",
       "<style scoped>\n",
       "    .dataframe tbody tr th:only-of-type {\n",
       "        vertical-align: middle;\n",
       "    }\n",
       "\n",
       "    .dataframe tbody tr th {\n",
       "        vertical-align: top;\n",
       "    }\n",
       "\n",
       "    .dataframe thead th {\n",
       "        text-align: right;\n",
       "    }\n",
       "</style>\n",
       "<table border=\"1\" class=\"dataframe\">\n",
       "  <thead>\n",
       "    <tr style=\"text-align: right;\">\n",
       "      <th></th>\n",
       "      <th>activity</th>\n",
       "      <th>x</th>\n",
       "      <th>y</th>\n",
       "      <th>z</th>\n",
       "      <th>x_mean</th>\n",
       "      <th>x_std</th>\n",
       "      <th>x_min</th>\n",
       "      <th>x_max</th>\n",
       "      <th>x_range</th>\n",
       "      <th>x_rmse</th>\n",
       "      <th>...</th>\n",
       "      <th>y_range</th>\n",
       "      <th>y_rmse</th>\n",
       "      <th>y_ir</th>\n",
       "      <th>z_mean</th>\n",
       "      <th>z_std</th>\n",
       "      <th>z_min</th>\n",
       "      <th>z_max</th>\n",
       "      <th>z_range</th>\n",
       "      <th>z_rmse</th>\n",
       "      <th>z_ir</th>\n",
       "    </tr>\n",
       "  </thead>\n",
       "  <tbody>\n",
       "    <tr>\n",
       "      <th>0</th>\n",
       "      <td>running</td>\n",
       "      <td>1.757344</td>\n",
       "      <td>-5.875371</td>\n",
       "      <td>-3.878607</td>\n",
       "      <td>1.92355</td>\n",
       "      <td>8.404867</td>\n",
       "      <td>-39.188293</td>\n",
       "      <td>39.188293</td>\n",
       "      <td>78.376586</td>\n",
       "      <td>8.62215</td>\n",
       "      <td>...</td>\n",
       "      <td>78.376586</td>\n",
       "      <td>12.575993</td>\n",
       "      <td>16.998832</td>\n",
       "      <td>1.804896</td>\n",
       "      <td>7.19159</td>\n",
       "      <td>-39.188293</td>\n",
       "      <td>39.188293</td>\n",
       "      <td>78.376586</td>\n",
       "      <td>7.414604</td>\n",
       "      <td>9.682152</td>\n",
       "    </tr>\n",
       "    <tr>\n",
       "      <th>1</th>\n",
       "      <td>running</td>\n",
       "      <td>2.461239</td>\n",
       "      <td>12.986150</td>\n",
       "      <td>1.762132</td>\n",
       "      <td>1.92355</td>\n",
       "      <td>8.404867</td>\n",
       "      <td>-39.188293</td>\n",
       "      <td>39.188293</td>\n",
       "      <td>78.376586</td>\n",
       "      <td>8.62215</td>\n",
       "      <td>...</td>\n",
       "      <td>78.376586</td>\n",
       "      <td>12.575993</td>\n",
       "      <td>16.998832</td>\n",
       "      <td>1.804896</td>\n",
       "      <td>7.19159</td>\n",
       "      <td>-39.188293</td>\n",
       "      <td>39.188293</td>\n",
       "      <td>78.376586</td>\n",
       "      <td>7.414604</td>\n",
       "      <td>9.682152</td>\n",
       "    </tr>\n",
       "    <tr>\n",
       "      <th>2</th>\n",
       "      <td>running</td>\n",
       "      <td>22.682667</td>\n",
       "      <td>22.922087</td>\n",
       "      <td>-1.738190</td>\n",
       "      <td>1.92355</td>\n",
       "      <td>8.404867</td>\n",
       "      <td>-39.188293</td>\n",
       "      <td>39.188293</td>\n",
       "      <td>78.376586</td>\n",
       "      <td>8.62215</td>\n",
       "      <td>...</td>\n",
       "      <td>78.376586</td>\n",
       "      <td>12.575993</td>\n",
       "      <td>16.998832</td>\n",
       "      <td>1.804896</td>\n",
       "      <td>7.19159</td>\n",
       "      <td>-39.188293</td>\n",
       "      <td>39.188293</td>\n",
       "      <td>78.376586</td>\n",
       "      <td>7.414604</td>\n",
       "      <td>9.682152</td>\n",
       "    </tr>\n",
       "    <tr>\n",
       "      <th>3</th>\n",
       "      <td>running</td>\n",
       "      <td>11.875240</td>\n",
       "      <td>4.611233</td>\n",
       "      <td>-8.389283</td>\n",
       "      <td>1.92355</td>\n",
       "      <td>8.404867</td>\n",
       "      <td>-39.188293</td>\n",
       "      <td>39.188293</td>\n",
       "      <td>78.376586</td>\n",
       "      <td>8.62215</td>\n",
       "      <td>...</td>\n",
       "      <td>78.376586</td>\n",
       "      <td>12.575993</td>\n",
       "      <td>16.998832</td>\n",
       "      <td>1.804896</td>\n",
       "      <td>7.19159</td>\n",
       "      <td>-39.188293</td>\n",
       "      <td>39.188293</td>\n",
       "      <td>78.376586</td>\n",
       "      <td>7.414604</td>\n",
       "      <td>9.682152</td>\n",
       "    </tr>\n",
       "    <tr>\n",
       "      <th>4</th>\n",
       "      <td>running</td>\n",
       "      <td>-5.295974</td>\n",
       "      <td>4.783615</td>\n",
       "      <td>-1.273715</td>\n",
       "      <td>1.92355</td>\n",
       "      <td>8.404867</td>\n",
       "      <td>-39.188293</td>\n",
       "      <td>39.188293</td>\n",
       "      <td>78.376586</td>\n",
       "      <td>8.62215</td>\n",
       "      <td>...</td>\n",
       "      <td>78.376586</td>\n",
       "      <td>12.575993</td>\n",
       "      <td>16.998832</td>\n",
       "      <td>1.804896</td>\n",
       "      <td>7.19159</td>\n",
       "      <td>-39.188293</td>\n",
       "      <td>39.188293</td>\n",
       "      <td>78.376586</td>\n",
       "      <td>7.414604</td>\n",
       "      <td>9.682152</td>\n",
       "    </tr>\n",
       "  </tbody>\n",
       "</table>\n",
       "<p>5 rows × 25 columns</p>\n",
       "</div>"
      ],
      "text/plain": [
       "  activity          x          y         z   x_mean     x_std      x_min  \\\n",
       "0  running   1.757344  -5.875371 -3.878607  1.92355  8.404867 -39.188293   \n",
       "1  running   2.461239  12.986150  1.762132  1.92355  8.404867 -39.188293   \n",
       "2  running  22.682667  22.922087 -1.738190  1.92355  8.404867 -39.188293   \n",
       "3  running  11.875240   4.611233 -8.389283  1.92355  8.404867 -39.188293   \n",
       "4  running  -5.295974   4.783615 -1.273715  1.92355  8.404867 -39.188293   \n",
       "\n",
       "       x_max    x_range   x_rmse  ...    y_range     y_rmse       y_ir  \\\n",
       "0  39.188293  78.376586  8.62215  ...  78.376586  12.575993  16.998832   \n",
       "1  39.188293  78.376586  8.62215  ...  78.376586  12.575993  16.998832   \n",
       "2  39.188293  78.376586  8.62215  ...  78.376586  12.575993  16.998832   \n",
       "3  39.188293  78.376586  8.62215  ...  78.376586  12.575993  16.998832   \n",
       "4  39.188293  78.376586  8.62215  ...  78.376586  12.575993  16.998832   \n",
       "\n",
       "     z_mean    z_std      z_min      z_max    z_range    z_rmse      z_ir  \n",
       "0  1.804896  7.19159 -39.188293  39.188293  78.376586  7.414604  9.682152  \n",
       "1  1.804896  7.19159 -39.188293  39.188293  78.376586  7.414604  9.682152  \n",
       "2  1.804896  7.19159 -39.188293  39.188293  78.376586  7.414604  9.682152  \n",
       "3  1.804896  7.19159 -39.188293  39.188293  78.376586  7.414604  9.682152  \n",
       "4  1.804896  7.19159 -39.188293  39.188293  78.376586  7.414604  9.682152  \n",
       "\n",
       "[5 rows x 25 columns]"
      ]
     },
     "execution_count": 5,
     "metadata": {},
     "output_type": "execute_result"
    }
   ],
   "source": [
    "features_X = time_domain_features(df, 'x')\n",
    "features_Y = time_domain_features(df, 'y')\n",
    "features_Z = time_domain_features(df, 'z')\n",
    "\n",
    "combined_features = {**features_X, **features_Y, **features_Z}\n",
    "features_df = pd.DataFrame([combined_features])\n",
    "repeated_df = pd.concat([features_df] * size[0], ignore_index=True)\n",
    "combined_df = pd.concat([df, repeated_df], axis=1)\n",
    "combined_df.head()"
   ]
  },
  {
   "cell_type": "markdown",
   "id": "a3a501dd-6316-41a1-adc7-c1bb5c1b7296",
   "metadata": {},
   "source": [
    "## алгоритм SVM"
   ]
  },
  {
   "cell_type": "code",
   "execution_count": 6,
   "id": "c7605706-439e-47d0-ba18-423a09b29bea",
   "metadata": {},
   "outputs": [],
   "source": [
    "from sklearn.model_selection import train_test_split\n",
    "from sklearn.svm import SVC\n",
    "from sklearn.ensemble import RandomForestClassifier\n",
    "from sklearn.metrics import accuracy_score, confusion_matrix,  precision_score, recall_score, f1_score, classification_report"
   ]
  },
  {
   "cell_type": "code",
   "execution_count": 7,
   "id": "4a93f6ab-f033-48dc-9c49-348a493bb2b4",
   "metadata": {},
   "outputs": [],
   "source": [
    "X = combined_df.drop(columns=['activity'])\n",
    "y = combined_df['activity']\n",
    "\n",
    "X_train, X_test, y_train, y_test = train_test_split(X, y, test_size=0.2, random_state=42)"
   ]
  },
  {
   "cell_type": "code",
   "execution_count": 8,
   "id": "b187a43e-8333-4a1f-9f80-fee8fca85ef7",
   "metadata": {},
   "outputs": [],
   "source": [
    "svm_model = SVC()\n",
    "svm_model.fit(X_train, y_train)\n",
    "\n",
    "y_pred = svm_model.predict(X_test)"
   ]
  },
  {
   "cell_type": "code",
   "execution_count": 9,
   "id": "487260b7-0009-4ac2-a8ae-7df7177bbe40",
   "metadata": {},
   "outputs": [
    {
     "name": "stderr",
     "output_type": "stream",
     "text": [
      "/Users/lena/env/lib/python3.12/site-packages/sklearn/metrics/_classification.py:1531: UndefinedMetricWarning: Precision is ill-defined and being set to 0.0 in labels with no predicted samples. Use `zero_division` parameter to control this behavior.\n",
      "  _warn_prf(average, modifier, f\"{metric.capitalize()} is\", len(result))\n"
     ]
    },
    {
     "name": "stdout",
     "output_type": "stream",
     "text": [
      "Accuracy RF: 0.8536056948313215\n",
      "SVM Classification Report:\n",
      "              precision    recall  f1-score   support\n",
      "\n",
      "        idle       0.86      0.88      0.87      6178\n",
      "     running       0.90      0.87      0.88     20510\n",
      "      stairs       0.00      0.00      0.00       915\n",
      "     walking       0.78      0.87      0.83     11169\n",
      "\n",
      "    accuracy                           0.85     38772\n",
      "   macro avg       0.63      0.66      0.65     38772\n",
      "weighted avg       0.84      0.85      0.84     38772\n",
      "\n"
     ]
    },
    {
     "name": "stderr",
     "output_type": "stream",
     "text": [
      "/Users/lena/env/lib/python3.12/site-packages/sklearn/metrics/_classification.py:1531: UndefinedMetricWarning: Precision is ill-defined and being set to 0.0 in labels with no predicted samples. Use `zero_division` parameter to control this behavior.\n",
      "  _warn_prf(average, modifier, f\"{metric.capitalize()} is\", len(result))\n",
      "/Users/lena/env/lib/python3.12/site-packages/sklearn/metrics/_classification.py:1531: UndefinedMetricWarning: Precision is ill-defined and being set to 0.0 in labels with no predicted samples. Use `zero_division` parameter to control this behavior.\n",
      "  _warn_prf(average, modifier, f\"{metric.capitalize()} is\", len(result))\n"
     ]
    }
   ],
   "source": [
    "accuracy_svm = accuracy_score(y_test, y_pred)\n",
    "report_svm = classification_report(y_test, y_pred)\n",
    "\n",
    "print(f'Accuracy RF: {accuracy_svm}')\n",
    "print(f\"SVM Classification Report:\\n{report_svm}\")"
   ]
  },
  {
   "cell_type": "markdown",
   "id": "1d8de743-899c-4ea5-9c8e-59273ecd58a7",
   "metadata": {},
   "source": [
    "## алгоритм випадковий ліс"
   ]
  },
  {
   "cell_type": "code",
   "execution_count": 10,
   "id": "583c9ad5-a3c1-442c-9854-f6cf18b24d0f",
   "metadata": {},
   "outputs": [],
   "source": [
    "rm_fr_model = RandomForestClassifier(random_state=42)\n",
    "rm_fr_model.fit(X_train, y_train)\n",
    "\n",
    "y_pred_rf = rm_fr_model.predict(X_test)"
   ]
  },
  {
   "cell_type": "code",
   "execution_count": 12,
   "id": "8050d325-2a45-4a66-a675-0ffb88d6e0f3",
   "metadata": {},
   "outputs": [
    {
     "name": "stdout",
     "output_type": "stream",
     "text": [
      "Accuracy RF: 0.999871040957392\n",
      "SVM Classification Report:\n",
      "              precision    recall  f1-score   support\n",
      "\n",
      "        idle       1.00      1.00      1.00      6178\n",
      "     running       1.00      1.00      1.00     20510\n",
      "      stairs       1.00      1.00      1.00       915\n",
      "     walking       1.00      1.00      1.00     11169\n",
      "\n",
      "    accuracy                           1.00     38772\n",
      "   macro avg       1.00      1.00      1.00     38772\n",
      "weighted avg       1.00      1.00      1.00     38772\n",
      "\n"
     ]
    }
   ],
   "source": [
    "accuracy_rf = accuracy_score(y_test, y_pred_rf)\n",
    "report_rf = classification_report(y_test, y_pred_rf)\n",
    "\n",
    "print(f'Accuracy RF: {accuracy_rf}')\n",
    "print(f\"SVM Classification Report:\\n{report_rf}\")"
   ]
  }
 ],
 "metadata": {
  "kernelspec": {
   "display_name": "Python 3 (ipykernel)",
   "language": "python",
   "name": "python3"
  },
  "language_info": {
   "codemirror_mode": {
    "name": "ipython",
    "version": 3
   },
   "file_extension": ".py",
   "mimetype": "text/x-python",
   "name": "python",
   "nbconvert_exporter": "python",
   "pygments_lexer": "ipython3",
   "version": "3.12.4"
  }
 },
 "nbformat": 4,
 "nbformat_minor": 5
}
