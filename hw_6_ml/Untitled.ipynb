{
 "cells": [
  {
   "cell_type": "code",
   "execution_count": null,
   "id": "8f5c8d75-e96f-43ac-a8bb-c3ed65c9f06f",
   "metadata": {},
   "outputs": [],
   "source": [
    "pip install scikit-learn"
   ]
  },
  {
   "cell_type": "code",
   "execution_count": 104,
   "id": "b7b8a553-254e-4d21-b608-a25e0f1640cb",
   "metadata": {},
   "outputs": [],
   "source": [
    "import numpy as np\n",
    "import pandas as pd\n",
    "from sklearn.linear_model import LinearRegression"
   ]
  },
  {
   "cell_type": "code",
   "execution_count": 105,
   "id": "a6dae2fd-f579-4157-b063-f9a18dc18244",
   "metadata": {},
   "outputs": [],
   "source": [
    "houses = pd.read_csv(\"Housing.csv\")\n",
    "\n",
    "Y = houses['price'].values.reshape(-1, 1)\n",
    "X = houses[['area', 'bedrooms', 'bathrooms']].values"
   ]
  },
  {
   "cell_type": "markdown",
   "id": "e17c0962-f750-467a-a1c5-e5e24fb03fef",
   "metadata": {},
   "source": [
    "Функція гіпотези лінійної регресії у векторному вигляді:\n",
    "$$ h(\\vec{x}) = \\vec{x} \\cdot \\vec{w} $$\n",
    "$$ \\vec{x} = \\begin{pmatrix} 1 \\\\ x_1 \\\\ x_2 \\\\ ... \\\\ x_i \\end{pmatrix} \n",
    "\\quad\n",
    "\\vec{w} = \\begin{pmatrix}  w_1 \\\\ w_2 \\\\ ... \\\\ w_{i-1} \\\\ w_i \\end{pmatrix} $$"
   ]
  },
  {
   "cell_type": "code",
   "execution_count": 106,
   "id": "357c9f59-1eef-4739-8a68-8b27ab4813b4",
   "metadata": {},
   "outputs": [],
   "source": [
    "def linear_regression_hypothesis(w0, w, x):\n",
    "    return w0 + np.dot(x, w)"
   ]
  },
  {
   "cell_type": "markdown",
   "id": "8e2012d3-e9e8-4953-91d1-d41711b04f77",
   "metadata": {},
   "source": [
    "Функція для обчислення функції втрат (MSE) у векторному вигляді:\n",
    "$$ MSE = \\frac{1}{2m} \\sum_{i=1}^m (h(x^i) - y^i)^2 $$"
   ]
  },
  {
   "cell_type": "code",
   "execution_count": 147,
   "id": "a15ab400-18eb-4bee-b88a-f48e4b043c95",
   "metadata": {},
   "outputs": [],
   "source": [
    "def mean_squared_error(y_true, y_pred, m):\n",
    "    return (1 / (2 * m)) * np.sum((y_true - y_pred) ** 2)"
   ]
  },
  {
   "cell_type": "markdown",
   "id": "0782fac6-fa56-432a-91ef-a8ee2dfe4ae8",
   "metadata": {},
   "source": [
    "Градієнтний спуск:"
   ]
  },
  {
   "cell_type": "code",
   "execution_count": 239,
   "id": "dd447eb1-b9a3-489f-9b61-42651726c0cb",
   "metadata": {},
   "outputs": [],
   "source": [
    "from sklearn.preprocessing import StandardScaler\n",
    "\n",
    "def grad_descent(x, y, iter=1000, lr=0.000000001, e=1e-4):\n",
    "    scaler_x = StandardScaler()\n",
    "    x_scaled = scaler_x.fit_transform(x)\n",
    "    \n",
    "    scaler_y = StandardScaler()\n",
    "    y_scaled = scaler_y.fit_transform(y.reshape(-1, 1))\n",
    "    \n",
    "    intercept = 0\n",
    "    slope = np.zeros(x.shape[1]).reshape(-1, 1)\n",
    "\n",
    "    n = len(y)\n",
    "    prev_cost = None\n",
    "\n",
    "    for i in range(iter):\n",
    "        y_pred = linear_regression_hypothesis(intercept, slope, x_scaled)\n",
    "        cost = mean_squared_error(y_scaled, y_pred, n)\n",
    "\n",
    "        if prev_cost and abs(cost - prev_cost) <= e:\n",
    "            print(f\"Градієнтний спуск завершено на {i+1}-й ітерації.\")\n",
    "            break\n",
    "\n",
    "        prev_cost = cost\n",
    "        \n",
    "        slope_derivative = (1/n) * np.dot(x_scaled.T, (y - y_pred))\n",
    "        intercept_derivative = (1/n) * np.sum(y_scaled - y_pred)\n",
    "        \n",
    "        slope += lr * slope_derivative\n",
    "        intercept += lr * intercept_derivative\n",
    "\n",
    "        # print(f\"Ітерація {i+1}: Вартість = {cost:.4f}, Slope = {slope.T}, Intercept = {intercept}\")\n",
    "\n",
    "        if cost > 1e5:\n",
    "            print(\"Зупинка: Вартість перевищує межу.\")\n",
    "            break\n",
    "    slope = slope / scaler_x.scale_.reshape(-1, 1)\n",
    "    intercept = scaler_y.inverse_transform([[intercept - np.sum(slope.T * scaler_x.mean_)]])[0, 0]\n",
    "\n",
    "    return slope, intercept\n"
   ]
  },
  {
   "cell_type": "code",
   "execution_count": 240,
   "id": "293565dd-75fc-4b21-9fb7-5221304a57e8",
   "metadata": {},
   "outputs": [
    {
     "name": "stdout",
     "output_type": "stream",
     "text": [
      "Градієнтний спуск завершено на 343-й ітерації.\n",
      "Slope = [[1.57995379e-04 3.17645442e-01 6.58882976e-01]], Intercept = -97752.19473536313\n"
     ]
    }
   ],
   "source": [
    "slope, intercept = grad_descent(X, Y)\n",
    "print(f\"Slope = {slope.T}, Intercept = {intercept}\")"
   ]
  },
  {
   "cell_type": "markdown",
   "id": "ab41b086-b629-46d4-ba64-e6bea8246aba",
   "metadata": {},
   "source": [
    "Аналітичне рішення для параметрів лінійної регресії:\n",
    "$$w = (X^T \\cdot X)^{-1} \\cdot X^T \\cdot y$$"
   ]
  },
  {
   "cell_type": "code",
   "execution_count": 243,
   "id": "2cde04d9-cb42-4a1f-952b-a0b771fc3391",
   "metadata": {},
   "outputs": [
    {
     "name": "stdout",
     "output_type": "stream",
     "text": [
      "Slope = [[3.78762754e+02 4.06820034e+05 1.38604950e+06]], Intercept = [-173171.60763264]\n"
     ]
    }
   ],
   "source": [
    "X_scaled = np.concatenate((np.ones((X.shape[0], 1)), X), axis=1).astype(\"int64\")\n",
    "\n",
    "weights = np.linalg.inv(X_scaled.T @ X_scaled) @ X_scaled.T @ Y\n",
    "print(f\"Slope = {weights[1:].T}, Intercept = {weights[0]}\")"
   ]
  },
  {
   "cell_type": "markdown",
   "id": "6632bba7-fbdb-4903-8169-41effaa9225a",
   "metadata": {},
   "source": [
    "Перевірка спрогнозованих значень:"
   ]
  },
  {
   "cell_type": "code",
   "execution_count": 244,
   "id": "59f0e83a-cf01-4f11-b8df-24460952a633",
   "metadata": {},
   "outputs": [
    {
     "name": "stdout",
     "output_type": "stream",
     "text": [
      "Slope = [[3.78762754e+02 4.06820034e+05 1.38604950e+06]], Intercept = [-173171.60763264]\n"
     ]
    }
   ],
   "source": [
    "lin_reg = LinearRegression()\n",
    "lin_reg.fit(X, Y)\n",
    "print(f\"Slope = {lin_reg.coef_}, Intercept = {lin_reg.intercept_}\")"
   ]
  },
  {
   "cell_type": "code",
   "execution_count": null,
   "id": "3c0758c8-1098-42d8-9a89-66597a5184e7",
   "metadata": {},
   "outputs": [],
   "source": []
  }
 ],
 "metadata": {
  "kernelspec": {
   "display_name": "Python 3 (ipykernel)",
   "language": "python",
   "name": "python3"
  },
  "language_info": {
   "codemirror_mode": {
    "name": "ipython",
    "version": 3
   },
   "file_extension": ".py",
   "mimetype": "text/x-python",
   "name": "python",
   "nbconvert_exporter": "python",
   "pygments_lexer": "ipython3",
   "version": "3.12.4"
  }
 },
 "nbformat": 4,
 "nbformat_minor": 5
}
